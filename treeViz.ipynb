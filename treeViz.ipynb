{
 "cells": [
  {
   "cell_type": "code",
   "execution_count": 4,
   "metadata": {
    "collapsed": false
   },
   "outputs": [
    {
     "data": {
      "text/plain": [
       "DecisionTreeClassifier(class_weight=None, criterion='entropy', max_depth=None,\n",
       "            max_features=None, max_leaf_nodes=None,\n",
       "            min_impurity_split=1e-07, min_samples_leaf=1,\n",
       "            min_samples_split=2, min_weight_fraction_leaf=0.0,\n",
       "            presort=False, random_state=None, splitter='best')"
      ]
     },
     "execution_count": 4,
     "metadata": {},
     "output_type": "execute_result"
    }
   ],
   "source": [
    "import numpy as np\n",
    "from sklearn import datasets\n",
    "from sklearn import tree\n",
    "from sklearn.tree import _tree\n",
    "import networkx as nx\n",
    "\n",
    "# Load iris\n",
    "iris = datasets.load_iris()\n",
    "X = iris.data\n",
    "y = iris.target\n",
    "\n",
    "# Build decision tree classifier\n",
    "dt = tree.DecisionTreeClassifier(criterion='entropy')\n",
    "dt.fit(X, y)"
   ]
  },
  {
   "cell_type": "code",
   "execution_count": 5,
   "metadata": {
    "collapsed": false
   },
   "outputs": [],
   "source": [
    "def tree_to_code(tree, feature_names):\n",
    "    '''\n",
    "    Outputs a decision tree model as a Python function\n",
    "\n",
    "    Parameters:\n",
    "    -----------\n",
    "    tree: decision tree model\n",
    "        The decision tree to represent as a function\n",
    "    feature_names: list\n",
    "        The feature names of the dataset used for building the decision tree\n",
    "    '''\n",
    "    g = nx.Graph()\n",
    "    tree_ = tree.tree_\n",
    "    feature_name = [\n",
    "        feature_names[i] if i != _tree.TREE_UNDEFINED else \"undefined!\"\n",
    "        for i in tree_.feature\n",
    "    ]\n",
    "    \n",
    "    print(\"def tree({}):\".format(\", \".join(feature_names)))\n",
    "\n",
    "\n",
    "def tree_to_code(tree, feature_names):\n",
    "\n",
    "    '''\n",
    "    Outputs a decision tree model as a Python function\n",
    "\n",
    "    Parameters:\n",
    "    -----------\n",
    "    tree: decision tree model\n",
    "        The decision tree to represent as a function\n",
    "    feature_names: list\n",
    "        The feature names of the dataset used for building the decision tree\n",
    "    '''\n",
    "\n",
    "    tree_ = tree.tree_\n",
    "    feature_name = [\n",
    "        feature_names[i] if i != _tree.TREE_UNDEFINED else \"undefined!\"\n",
    "        for i in tree_.feature\n",
    "    ]\n",
    "    print(\"def tree({}):\".format(\", \".join(feature_names)))\n",
    "\n",
    "    g = nx.DiGraph()\n",
    "    \n",
    "    def recurse(node, depth, g):\n",
    "        indent = \"  \" * depth\n",
    "        if tree_.feature[node] != _tree.TREE_UNDEFINED:\n",
    "            name = feature_name[node]\n",
    "            threshold = tree_.threshold[node]\n",
    "            node_name = \"{}\\n<=\\n{:.2f}\\n\".format(name, threshold) + ' NODE {}'.format(node)\n",
    "            g.add_node(node_name)\n",
    "            print(\"{}if {} <= {}:\".format(indent, name, threshold))\n",
    "            cl_name = recurse(tree_.children_left[node], depth + 1, g)\n",
    "            g.add_edge(node_name, cl_name, name='yes')\n",
    "            print(\"{}else:\".format(indent, name, threshold))\n",
    "            cr_name = recurse(tree_.children_right[node], depth + 1, g)\n",
    "            g.add_edge(node_name, cr_name, name='no')\n",
    "        else:\n",
    "            node_name = \"return {}\".format(tree_.value[node]) + 'NODE{}'.format(node)\n",
    "            g.add_node(node_name)\n",
    "            print(\"{}return {}\".format(indent, tree_.value[node]))\n",
    "        return node_name\n",
    "    recurse(0, 1, g)\n",
    "    relabel_dict = {}\n",
    "    order_dict = {}\n",
    "    for n in g.nodes:\n",
    "        relabel_dict[n], order = n.split('NODE')\n",
    "        order_dict[relabel_dict[n]] = int(order)\n",
    "    #g = nx.relabel_nodes(g, relabel_dict)\n",
    "    \n",
    "    return g, order_dict"
   ]
  },
  {
   "cell_type": "code",
   "execution_count": 6,
   "metadata": {
    "collapsed": false
   },
   "outputs": [
    {
     "name": "stdout",
     "output_type": "stream",
     "text": [
      "def tree(sepal length (cm), sepal width (cm), petal length (cm), petal width (cm)):\n",
      "  if petal width (cm) <= 0.800000011920929:\n",
      "    return [[ 50.   0.   0.]]\n",
      "  else:\n",
      "    if petal width (cm) <= 1.75:\n",
      "      if petal length (cm) <= 4.949999809265137:\n",
      "        if petal width (cm) <= 1.6500000953674316:\n",
      "          return [[  0.  47.   0.]]\n",
      "        else:\n",
      "          return [[ 0.  0.  1.]]\n",
      "      else:\n",
      "        if petal width (cm) <= 1.5499999523162842:\n",
      "          return [[ 0.  0.  3.]]\n",
      "        else:\n",
      "          if petal length (cm) <= 5.449999809265137:\n",
      "            return [[ 0.  2.  0.]]\n",
      "          else:\n",
      "            return [[ 0.  0.  1.]]\n",
      "    else:\n",
      "      if petal length (cm) <= 4.850000381469727:\n",
      "        if sepal width (cm) <= 3.0999999046325684:\n",
      "          return [[ 0.  0.  2.]]\n",
      "        else:\n",
      "          return [[ 0.  1.  0.]]\n",
      "      else:\n",
      "        return [[  0.   0.  43.]]\n"
     ]
    }
   ],
   "source": [
    "g, order_dict = tree_to_code(dt, list(iris.feature_names))"
   ]
  },
  {
   "cell_type": "code",
   "execution_count": 7,
   "metadata": {
    "collapsed": true
   },
   "outputs": [],
   "source": [
    "def get_root(g):\n",
    "    root = [node for node, deg in g.degree() if deg == 2]\n",
    "    if len(root) != 1:\n",
    "        raise Exception('something wrong')\n",
    "    else:\n",
    "        return root[0]"
   ]
  },
  {
   "cell_type": "code",
   "execution_count": 8,
   "metadata": {
    "collapsed": false
   },
   "outputs": [],
   "source": [
    "def set_pos_dict(g, parent, node, pos_dict, dx=1, dy=1, root_coord=(0, 1), eps=0.5):\n",
    "    if parent is None:\n",
    "        node = get_root(g)\n",
    "        x, y = root_coord\n",
    "    else:\n",
    "        x, y = pos_dict[parent]\n",
    "        y = y - dy\n",
    "        edge = g.get_edge_data(parent, node)\n",
    "        if edge['name'] == 'yes':\n",
    "            x = x + dx\n",
    "        else:\n",
    "            x = x - dx\n",
    "    pos_dict[node] = np.array((x, y))\n",
    "    \n",
    "    children = [dest for orig, dest in g.edges if orig == node]\n",
    "    for child in children:\n",
    "        set_pos_dict(g, node, child, pos_dict, dx=dx*eps)"
   ]
  },
  {
   "cell_type": "code",
   "execution_count": 9,
   "metadata": {
    "collapsed": true
   },
   "outputs": [],
   "source": [
    "pos_dict = {}"
   ]
  },
  {
   "cell_type": "code",
   "execution_count": 10,
   "metadata": {
    "collapsed": true
   },
   "outputs": [],
   "source": [
    "set_pos_dict(g, None, None, pos_dict, dx=50, dy=3)"
   ]
  },
  {
   "cell_type": "code",
   "execution_count": 11,
   "metadata": {
    "collapsed": false
   },
   "outputs": [
    {
     "data": {
      "text/plain": [
       "{'petal length (cm)\\n<=\\n4.85\\n NODE 12': array([-37.5,  -1. ]),\n",
       " 'petal length (cm)\\n<=\\n4.95\\n NODE 3': array([-12.5,  -1. ]),\n",
       " 'petal length (cm)\\n<=\\n5.45\\n NODE 9': array([-21.875,  -3.   ]),\n",
       " 'petal width (cm)\\n<=\\n0.80\\n NODE 0': array([0, 1]),\n",
       " 'petal width (cm)\\n<=\\n1.55\\n NODE 7': array([-18.75,  -2.  ]),\n",
       " 'petal width (cm)\\n<=\\n1.65\\n NODE 4': array([-6.25, -2.  ]),\n",
       " 'petal width (cm)\\n<=\\n1.75\\n NODE 2': array([-25.,   0.]),\n",
       " 'return [[  0.   0.  43.]]NODE16': array([-43.75,  -2.  ]),\n",
       " 'return [[  0.  47.   0.]]NODE5': array([-3.125, -3.   ]),\n",
       " 'return [[ 0.  0.  1.]]NODE11': array([-23.4375,  -4.    ]),\n",
       " 'return [[ 0.  0.  1.]]NODE6': array([-9.375, -3.   ]),\n",
       " 'return [[ 0.  0.  2.]]NODE14': array([-28.125,  -3.   ]),\n",
       " 'return [[ 0.  0.  3.]]NODE8': array([-15.625,  -3.   ]),\n",
       " 'return [[ 0.  1.  0.]]NODE15': array([-34.375,  -3.   ]),\n",
       " 'return [[ 0.  2.  0.]]NODE10': array([-20.3125,  -4.    ]),\n",
       " 'return [[ 50.   0.   0.]]NODE1': array([ 25.,   0.]),\n",
       " 'sepal width (cm)\\n<=\\n3.10\\n NODE 13': array([-31.25,  -2.  ])}"
      ]
     },
     "execution_count": 11,
     "metadata": {},
     "output_type": "execute_result"
    }
   ],
   "source": [
    "pos_dict"
   ]
  },
  {
   "cell_type": "code",
   "execution_count": 13,
   "metadata": {
    "collapsed": false
   },
   "outputs": [
    {
     "data": {
      "text/plain": [
       "{'petal length (cm)\\n<=\\n4.85\\n NODE 12': Text(-37.5,-1,'petal length (cm)\\n<=\\n4.85\\n NODE 12'),\n",
       " 'petal length (cm)\\n<=\\n4.95\\n NODE 3': Text(-12.5,-1,'petal length (cm)\\n<=\\n4.95\\n NODE 3'),\n",
       " 'petal length (cm)\\n<=\\n5.45\\n NODE 9': Text(-21.875,-3,'petal length (cm)\\n<=\\n5.45\\n NODE 9'),\n",
       " 'petal width (cm)\\n<=\\n0.80\\n NODE 0': Text(0,1,'petal width (cm)\\n<=\\n0.80\\n NODE 0'),\n",
       " 'petal width (cm)\\n<=\\n1.55\\n NODE 7': Text(-18.75,-2,'petal width (cm)\\n<=\\n1.55\\n NODE 7'),\n",
       " 'petal width (cm)\\n<=\\n1.65\\n NODE 4': Text(-6.25,-2,'petal width (cm)\\n<=\\n1.65\\n NODE 4'),\n",
       " 'petal width (cm)\\n<=\\n1.75\\n NODE 2': Text(-25,0,'petal width (cm)\\n<=\\n1.75\\n NODE 2'),\n",
       " 'return [[  0.   0.  43.]]NODE16': Text(-43.75,-2,'return [[  0.   0.  43.]]NODE16'),\n",
       " 'return [[  0.  47.   0.]]NODE5': Text(-3.125,-3,'return [[  0.  47.   0.]]NODE5'),\n",
       " 'return [[ 0.  0.  1.]]NODE11': Text(-23.4375,-4,'return [[ 0.  0.  1.]]NODE11'),\n",
       " 'return [[ 0.  0.  1.]]NODE6': Text(-9.375,-3,'return [[ 0.  0.  1.]]NODE6'),\n",
       " 'return [[ 0.  0.  2.]]NODE14': Text(-28.125,-3,'return [[ 0.  0.  2.]]NODE14'),\n",
       " 'return [[ 0.  0.  3.]]NODE8': Text(-15.625,-3,'return [[ 0.  0.  3.]]NODE8'),\n",
       " 'return [[ 0.  1.  0.]]NODE15': Text(-34.375,-3,'return [[ 0.  1.  0.]]NODE15'),\n",
       " 'return [[ 0.  2.  0.]]NODE10': Text(-20.3125,-4,'return [[ 0.  2.  0.]]NODE10'),\n",
       " 'return [[ 50.   0.   0.]]NODE1': Text(25,0,'return [[ 50.   0.   0.]]NODE1'),\n",
       " 'sepal width (cm)\\n<=\\n3.10\\n NODE 13': Text(-31.25,-2,'sepal width (cm)\\n<=\\n3.10\\n NODE 13')}"
      ]
     },
     "execution_count": 13,
     "metadata": {},
     "output_type": "execute_result"
    }
   ],
   "source": [
    "import matplotlib.pyplot as plt\n",
    "plt.figure(figsize=(20, 20))\n",
    "#pos = nx.spring_layout(g)\n",
    "pos = pos_dict\n",
    "nx.draw(g, pos=pos, node_size=15000)\n",
    "nx.draw_networkx_labels(g, pos=pos)\n",
    "#nx.draw_networkx_edge_labels(g, pos=pos)\n"
   ]
  },
  {
   "cell_type": "code",
   "execution_count": 14,
   "metadata": {
    "collapsed": true
   },
   "outputs": [],
   "source": [
    "def fun_layout(g, scale=None, center=None, dim=None):\n",
    "    xy = pos.values()\n",
    "    xy = np.array(list(xy))\n",
    "    mean = xy.mean(axis=0)\n",
    "    max_ = np.abs(xy).max(axis=0)\n",
    "    xy = (xy - mean + center)*scale/max_\n",
    "    i = 0\n",
    "    for k, v in pos.items():\n",
    "        pos[k] = xy[i]\n",
    "        i += 1\n",
    "    return pos"
   ]
  },
  {
   "cell_type": "code",
   "execution_count": 15,
   "metadata": {
    "collapsed": false
   },
   "outputs": [
    {
     "ename": "NameError",
     "evalue": "name 'output_notebook' is not defined",
     "output_type": "error",
     "traceback": [
      "\u001b[0;31m---------------------------------------------------------------------------\u001b[0m",
      "\u001b[0;31mNameError\u001b[0m                                 Traceback (most recent call last)",
      "\u001b[0;32m<ipython-input-15-c57c6fa8f51a>\u001b[0m in \u001b[0;36m<module>\u001b[0;34m()\u001b[0m\n\u001b[0;32m----> 1\u001b[0;31m \u001b[0moutput_notebook\u001b[0m\u001b[0;34m(\u001b[0m\u001b[0;34m)\u001b[0m\u001b[0;34m\u001b[0m\u001b[0m\n\u001b[0m",
      "\u001b[0;31mNameError\u001b[0m: name 'output_notebook' is not defined"
     ]
    }
   ],
   "source": []
  },
  {
   "cell_type": "code",
   "execution_count": 23,
   "metadata": {
    "collapsed": false
   },
   "outputs": [
    {
     "data": {
      "text/html": [
       "\n",
       "<div class=\"bk-root\">\n",
       "    <div class=\"bk-plotdiv\" id=\"798197cf-9a77-423a-a7a8-1c5d54195d44\"></div>\n",
       "</div>"
      ]
     },
     "metadata": {},
     "output_type": "display_data"
    },
    {
     "data": {
      "application/javascript": [
       "(function(root) {\n",
       "  function embed_document(root) {\n",
       "    \n",
       "  var docs_json = {\"1e2baad1-c2ba-4ba7-bf0b-5d5e0b7d4f5d\":{\"roots\":{\"references\":[{\"attributes\":{\"callback\":null},\"id\":\"36e0aedc-ee25-4816-ae23-796f24e147f1\",\"type\":\"TapTool\"},{\"attributes\":{\"graph_layout\":{\"petal length (cm)\\n<=\\n4.85\\n NODE 12\":[-0.45299145299145294,0.3461538461538462],\"petal length (cm)\\n<=\\n4.95\\n NODE 3\":[0.1282051282051282,0.3461538461538462],\"petal length (cm)\\n<=\\n5.45\\n NODE 9\":[-0.08974358974358974,-0.3076923076923077],\"petal width (cm)\\n<=\\n0.80\\n NODE 0\":[0.4188034188034188,1.0],\"petal width (cm)\\n<=\\n1.55\\n NODE 7\":[-0.017094017094017103,0.019230769230769273],\"petal width (cm)\\n<=\\n1.65\\n NODE 4\":[0.27350427350427353,0.019230769230769273],\"petal width (cm)\\n<=\\n1.75\\n NODE 2\":[-0.1623931623931624,0.673076923076923],\"return [[  0.   0.  43.]]NODE16\":[-0.5982905982905983,0.019230769230769273],\"return [[  0.  47.   0.]]NODE5\":[0.34615384615384615,-0.3076923076923077],\"return [[ 0.  0.  1.]]NODE11\":[-0.12606837606837606,-0.6346153846153847],\"return [[ 0.  0.  1.]]NODE6\":[0.20085470085470084,-0.3076923076923077],\"return [[ 0.  0.  2.]]NODE14\":[-0.23504273504273504,-0.3076923076923077],\"return [[ 0.  0.  3.]]NODE8\":[0.055555555555555546,-0.3076923076923077],\"return [[ 0.  1.  0.]]NODE15\":[-0.3803418803418803,-0.3076923076923077],\"return [[ 0.  2.  0.]]NODE10\":[-0.05341880341880342,-0.6346153846153847],\"return [[ 50.   0.   0.]]NODE1\":[1.0,0.673076923076923],\"sepal width (cm)\\n<=\\n3.10\\n NODE 13\":[-0.30769230769230765,0.019230769230769273]}},\"id\":\"7549e299-a31f-4c9a-b905-e9dd1924cd6d\",\"type\":\"StaticLayoutProvider\"},{\"attributes\":{\"callback\":null,\"column_names\":[\"index\"],\"data\":{\"index\":[\"return [[ 0.  2.  0.]]NODE10\",\"return [[  0.  47.   0.]]NODE5\",\"return [[ 0.  0.  1.]]NODE11\",\"return [[ 0.  0.  1.]]NODE6\",\"petal width (cm)\\n<=\\n1.55\\n NODE 7\",\"petal length (cm)\\n<=\\n5.45\\n NODE 9\",\"sepal width (cm)\\n<=\\n3.10\\n NODE 13\",\"return [[ 0.  0.  2.]]NODE14\",\"return [[ 0.  0.  3.]]NODE8\",\"petal width (cm)\\n<=\\n1.75\\n NODE 2\",\"petal length (cm)\\n<=\\n4.85\\n NODE 12\",\"petal width (cm)\\n<=\\n1.65\\n NODE 4\",\"return [[  0.   0.  43.]]NODE16\",\"return [[ 0.  1.  0.]]NODE15\",\"petal length (cm)\\n<=\\n4.95\\n NODE 3\",\"petal width (cm)\\n<=\\n0.80\\n NODE 0\",\"return [[ 50.   0.   0.]]NODE1\"],\"name\":[\"return [[ 0.  2.  0.]]\",\"return [[  0.  47.   0.]]\",\"return [[ 0.  0.  1.]]\",\"return [[ 0.  0.  1.]]\",\"petal width (cm)\\n<=\\n1.55\\n \",\"petal length (cm)\\n<=\\n5.45\\n \",\"sepal width (cm)\\n<=\\n3.10\\n \",\"return [[ 0.  0.  2.]]\",\"return [[ 0.  0.  3.]]\",\"petal width (cm)\\n<=\\n1.75\\n \",\"petal length (cm)\\n<=\\n4.85\\n \",\"petal width (cm)\\n<=\\n1.65\\n \",\"return [[  0.   0.  43.]]\",\"return [[ 0.  1.  0.]]\",\"petal length (cm)\\n<=\\n4.95\\n \",\"petal width (cm)\\n<=\\n0.80\\n \",\"return [[ 50.   0.   0.]]\"]},\"selected\":null,\"selection_policy\":null},\"id\":\"c97692ed-3353-4e49-803a-1fcee2899549\",\"type\":\"ColumnDataSource\"},{\"attributes\":{\"callback\":null,\"column_names\":[\"start\",\"end\"],\"data\":{\"end\":[\"return [[ 0.  0.  3.]]NODE8\",\"petal length (cm)\\n<=\\n5.45\\n NODE 9\",\"return [[ 0.  0.  1.]]NODE11\",\"return [[ 0.  2.  0.]]NODE10\",\"return [[ 0.  1.  0.]]NODE15\",\"return [[ 0.  0.  2.]]NODE14\",\"petal length (cm)\\n<=\\n4.85\\n NODE 12\",\"petal length (cm)\\n<=\\n4.95\\n NODE 3\",\"return [[  0.   0.  43.]]NODE16\",\"sepal width (cm)\\n<=\\n3.10\\n NODE 13\",\"return [[ 0.  0.  1.]]NODE6\",\"return [[  0.  47.   0.]]NODE5\",\"petal width (cm)\\n<=\\n1.55\\n NODE 7\",\"petal width (cm)\\n<=\\n1.65\\n NODE 4\",\"petal width (cm)\\n<=\\n1.75\\n NODE 2\",\"return [[ 50.   0.   0.]]NODE1\"],\"start\":[\"petal width (cm)\\n<=\\n1.55\\n NODE 7\",\"petal width (cm)\\n<=\\n1.55\\n NODE 7\",\"petal length (cm)\\n<=\\n5.45\\n NODE 9\",\"petal length (cm)\\n<=\\n5.45\\n NODE 9\",\"sepal width (cm)\\n<=\\n3.10\\n NODE 13\",\"sepal width (cm)\\n<=\\n3.10\\n NODE 13\",\"petal width (cm)\\n<=\\n1.75\\n NODE 2\",\"petal width (cm)\\n<=\\n1.75\\n NODE 2\",\"petal length (cm)\\n<=\\n4.85\\n NODE 12\",\"petal length (cm)\\n<=\\n4.85\\n NODE 12\",\"petal width (cm)\\n<=\\n1.65\\n NODE 4\",\"petal width (cm)\\n<=\\n1.65\\n NODE 4\",\"petal length (cm)\\n<=\\n4.95\\n NODE 3\",\"petal length (cm)\\n<=\\n4.95\\n NODE 3\",\"petal width (cm)\\n<=\\n0.80\\n NODE 0\",\"petal width (cm)\\n<=\\n0.80\\n NODE 0\"]},\"selected\":null,\"selection_policy\":null},\"id\":\"830447de-f699-4469-88d9-7566d1b6cbb4\",\"type\":\"ColumnDataSource\"},{\"attributes\":{\"bottom_units\":\"screen\",\"fill_alpha\":{\"value\":0.5},\"fill_color\":{\"value\":\"lightgrey\"},\"left_units\":\"screen\",\"level\":\"overlay\",\"line_alpha\":{\"value\":1.0},\"line_color\":{\"value\":\"black\"},\"line_dash\":[4,4],\"line_width\":{\"value\":2},\"plot\":null,\"render_mode\":\"css\",\"right_units\":\"screen\",\"top_units\":\"screen\"},\"id\":\"e20ce8d3-162f-43f8-b7b2-8d8fae917e84\",\"type\":\"BoxAnnotation\"},{\"attributes\":{\"plot_height\":400,\"plot_width\":400,\"renderers\":[{\"id\":\"e20ce8d3-162f-43f8-b7b2-8d8fae917e84\",\"type\":\"BoxAnnotation\"},{\"id\":\"ba8c97f8-a1d8-47a2-ba7e-e2d9aefe5bc8\",\"type\":\"GraphRenderer\"}],\"title\":{\"id\":\"95ffcfae-b4da-448a-b716-f4ecfbbaae0a\",\"type\":\"Title\"},\"toolbar\":{\"id\":\"55bdd33d-a838-4496-a502-874baeb16443\",\"type\":\"Toolbar\"},\"x_range\":{\"id\":\"f39b10fb-66e0-483e-be0c-6d4386ee709e\",\"type\":\"Range1d\"},\"x_scale\":{\"id\":\"53e3c932-a5a9-489f-b386-7e540b59093d\",\"type\":\"LinearScale\"},\"y_range\":{\"id\":\"bb4e3d98-638a-4416-bf44-29d85c64169e\",\"type\":\"Range1d\"},\"y_scale\":{\"id\":\"18fa597c-a428-4186-94af-0cdebaf84593\",\"type\":\"LinearScale\"}},\"id\":\"d749cd8c-fa9a-4c04-b24e-d57b7b84e69a\",\"type\":\"Plot\"},{\"attributes\":{\"line_alpha\":{\"value\":0.8},\"line_color\":{\"value\":\"#CCCCCC\"},\"line_width\":{\"value\":5}},\"id\":\"96abcd32-542c-42ff-885c-cc0da2d60c47\",\"type\":\"MultiLine\"},{\"attributes\":{\"source\":{\"id\":\"c97692ed-3353-4e49-803a-1fcee2899549\",\"type\":\"ColumnDataSource\"}},\"id\":\"dd8a5943-52a1-4ea3-bd96-740a1d4d7aa3\",\"type\":\"CDSView\"},{\"attributes\":{\"active_drag\":\"auto\",\"active_inspect\":\"auto\",\"active_scroll\":\"auto\",\"active_tap\":\"auto\",\"tools\":[{\"id\":\"1b60b49b-8fc5-4a0f-b753-19303be27fd3\",\"type\":\"HoverTool\"},{\"id\":\"36e0aedc-ee25-4816-ae23-796f24e147f1\",\"type\":\"TapTool\"},{\"id\":\"b65ec44f-ddc1-4c8d-85f8-eff8808fbc39\",\"type\":\"BoxSelectTool\"},{\"id\":\"4c769184-7ae1-46ab-b592-d6e1adca7ccf\",\"type\":\"WheelZoomTool\"}]},\"id\":\"55bdd33d-a838-4496-a502-874baeb16443\",\"type\":\"Toolbar\"},{\"attributes\":{},\"id\":\"55aa5163-573f-4101-80ab-2d3d6dd4133e\",\"type\":\"NodesAndLinkedEdges\"},{\"attributes\":{\"callback\":null,\"overlay\":{\"id\":\"e20ce8d3-162f-43f8-b7b2-8d8fae917e84\",\"type\":\"BoxAnnotation\"}},\"id\":\"b65ec44f-ddc1-4c8d-85f8-eff8808fbc39\",\"type\":\"BoxSelectTool\"},{\"attributes\":{\"fill_color\":{\"value\":\"#2b83ba\"},\"size\":{\"units\":\"screen\",\"value\":15}},\"id\":\"32fc2c43-4d5c-4931-91a3-ba8a74c4ba71\",\"type\":\"Circle\"},{\"attributes\":{\"source\":{\"id\":\"830447de-f699-4469-88d9-7566d1b6cbb4\",\"type\":\"ColumnDataSource\"}},\"id\":\"287b6725-504c-4a7f-afa8-37c2f6adcd5f\",\"type\":\"CDSView\"},{\"attributes\":{\"edge_renderer\":{\"id\":\"40b26ade-b9be-4f71-b0da-429e91313bb8\",\"type\":\"GlyphRenderer\"},\"inspection_policy\":{\"id\":\"55aa5163-573f-4101-80ab-2d3d6dd4133e\",\"type\":\"NodesAndLinkedEdges\"},\"layout_provider\":{\"id\":\"7549e299-a31f-4c9a-b905-e9dd1924cd6d\",\"type\":\"StaticLayoutProvider\"},\"node_renderer\":{\"id\":\"d97624fe-c394-45c1-838a-676b16265d13\",\"type\":\"GlyphRenderer\"},\"selection_policy\":{\"id\":\"73c7bacf-8ec3-4719-ad58-bde8f2ada659\",\"type\":\"NodesAndLinkedEdges\"}},\"id\":\"ba8c97f8-a1d8-47a2-ba7e-e2d9aefe5bc8\",\"type\":\"GraphRenderer\"},{\"attributes\":{},\"id\":\"18fa597c-a428-4186-94af-0cdebaf84593\",\"type\":\"LinearScale\"},{\"attributes\":{\"data_source\":{\"id\":\"c97692ed-3353-4e49-803a-1fcee2899549\",\"type\":\"ColumnDataSource\"},\"glyph\":{\"id\":\"32fc2c43-4d5c-4931-91a3-ba8a74c4ba71\",\"type\":\"Circle\"},\"hover_glyph\":{\"id\":\"4e6a74c8-7d3f-4f6b-bd07-af575f9c07ad\",\"type\":\"Circle\"},\"muted_glyph\":null,\"selection_glyph\":{\"id\":\"275fdad0-b9df-4f32-b36d-7cdc8bb68aa7\",\"type\":\"Circle\"},\"view\":{\"id\":\"dd8a5943-52a1-4ea3-bd96-740a1d4d7aa3\",\"type\":\"CDSView\"}},\"id\":\"d97624fe-c394-45c1-838a-676b16265d13\",\"type\":\"GlyphRenderer\"},{\"attributes\":{\"fill_color\":{\"value\":\"#abdda4\"},\"size\":{\"units\":\"screen\",\"value\":15}},\"id\":\"4e6a74c8-7d3f-4f6b-bd07-af575f9c07ad\",\"type\":\"Circle\"},{\"attributes\":{\"line_color\":{\"value\":\"#abdda4\"},\"line_width\":{\"value\":5}},\"id\":\"1074c47f-413f-4f64-8840-95f0368dafc5\",\"type\":\"MultiLine\"},{\"attributes\":{},\"id\":\"4c769184-7ae1-46ab-b592-d6e1adca7ccf\",\"type\":\"WheelZoomTool\"},{\"attributes\":{},\"id\":\"53e3c932-a5a9-489f-b386-7e540b59093d\",\"type\":\"LinearScale\"},{\"attributes\":{\"line_color\":{\"value\":\"#fdae61\"},\"line_width\":{\"value\":5}},\"id\":\"59712f67-4354-4443-ba1a-56ecd23c2892\",\"type\":\"MultiLine\"},{\"attributes\":{},\"id\":\"73c7bacf-8ec3-4719-ad58-bde8f2ada659\",\"type\":\"NodesAndLinkedEdges\"},{\"attributes\":{\"plot\":null,\"text\":\"Graph Interaction Demonstration\"},\"id\":\"95ffcfae-b4da-448a-b716-f4ecfbbaae0a\",\"type\":\"Title\"},{\"attributes\":{\"callback\":null,\"tooltips\":[[\"Name:\",\"@name\"]]},\"id\":\"1b60b49b-8fc5-4a0f-b753-19303be27fd3\",\"type\":\"HoverTool\"},{\"attributes\":{\"fill_color\":{\"value\":\"#fdae61\"},\"size\":{\"units\":\"screen\",\"value\":15}},\"id\":\"275fdad0-b9df-4f32-b36d-7cdc8bb68aa7\",\"type\":\"Circle\"},{\"attributes\":{\"callback\":null,\"end\":1.1,\"start\":-1.1},\"id\":\"bb4e3d98-638a-4416-bf44-29d85c64169e\",\"type\":\"Range1d\"},{\"attributes\":{\"callback\":null,\"end\":1.1,\"start\":-1.1},\"id\":\"f39b10fb-66e0-483e-be0c-6d4386ee709e\",\"type\":\"Range1d\"},{\"attributes\":{\"data_source\":{\"id\":\"830447de-f699-4469-88d9-7566d1b6cbb4\",\"type\":\"ColumnDataSource\"},\"glyph\":{\"id\":\"96abcd32-542c-42ff-885c-cc0da2d60c47\",\"type\":\"MultiLine\"},\"hover_glyph\":{\"id\":\"1074c47f-413f-4f64-8840-95f0368dafc5\",\"type\":\"MultiLine\"},\"muted_glyph\":null,\"selection_glyph\":{\"id\":\"59712f67-4354-4443-ba1a-56ecd23c2892\",\"type\":\"MultiLine\"},\"view\":{\"id\":\"287b6725-504c-4a7f-afa8-37c2f6adcd5f\",\"type\":\"CDSView\"}},\"id\":\"40b26ade-b9be-4f71-b0da-429e91313bb8\",\"type\":\"GlyphRenderer\"}],\"root_ids\":[\"d749cd8c-fa9a-4c04-b24e-d57b7b84e69a\"]},\"title\":\"Bokeh Application\",\"version\":\"0.12.15\"}};\n",
       "  var render_items = [{\"docid\":\"1e2baad1-c2ba-4ba7-bf0b-5d5e0b7d4f5d\",\"elementid\":\"798197cf-9a77-423a-a7a8-1c5d54195d44\",\"modelid\":\"d749cd8c-fa9a-4c04-b24e-d57b7b84e69a\"}];\n",
       "  root.Bokeh.embed.embed_items_notebook(docs_json, render_items);\n",
       "\n",
       "  }\n",
       "  if (root.Bokeh !== undefined) {\n",
       "    embed_document(root);\n",
       "  } else {\n",
       "    var attempts = 0;\n",
       "    var timer = setInterval(function(root) {\n",
       "      if (root.Bokeh !== undefined) {\n",
       "        embed_document(root);\n",
       "        clearInterval(timer);\n",
       "      }\n",
       "      attempts++;\n",
       "      if (attempts > 100) {\n",
       "        console.log(\"Bokeh: ERROR: Unable to run BokehJS code because BokehJS library is missing\")\n",
       "        clearInterval(timer);\n",
       "      }\n",
       "    }, 10, root)\n",
       "  }\n",
       "})(window);"
      ],
      "application/vnd.bokehjs_exec.v0+json": ""
     },
     "metadata": {
      "application/vnd.bokehjs_exec.v0+json": {
       "id": "d749cd8c-fa9a-4c04-b24e-d57b7b84e69a"
      }
     },
     "output_type": "display_data"
    }
   ],
   "source": [
    "import networkx as nx\n",
    "\n",
    "from bokeh.io import show, output_file\n",
    "from bokeh.models import Plot, Range1d, MultiLine, Circle, HoverTool, TapTool, BoxSelectTool, WheelZoomTool\n",
    "from bokeh.models.graphs import from_networkx, NodesAndLinkedEdges, EdgesAndLinkedNodes\n",
    "from bokeh.palettes import Spectral4\n",
    "\n",
    "G = g\n",
    "plot = Plot(plot_width=400, plot_height=400,\n",
    "            x_range=Range1d(-1.1,1.1), y_range=Range1d(-1.1,1.1))\n",
    "plot.title.text = \"Graph Interaction Demonstration\"\n",
    "hover = HoverTool(tooltips=[(\"Name:\", \"@name\")])\n",
    "plot.add_tools(hover, TapTool(), BoxSelectTool(), WheelZoomTool())\n",
    "\n",
    "graph_renderer = from_networkx(G, fun_layout, scale=1, center=(0,0))\n",
    "\n",
    "graph_renderer.node_renderer.glyph = Circle(size=15, fill_color=Spectral4[0])\n",
    "graph_renderer.node_renderer.selection_glyph = Circle(size=15, fill_color=Spectral4[2])\n",
    "graph_renderer.node_renderer.hover_glyph = Circle(size=15, fill_color=Spectral4[1])\n",
    "graph_renderer.node_renderer.data_source.data['name'] = [e.split('NODE')[0] for e in list(g.nodes)]\n",
    "\n",
    "\n",
    "graph_renderer.edge_renderer.glyph = MultiLine(line_color=\"#CCCCCC\", line_alpha=0.8, line_width=5)\n",
    "graph_renderer.edge_renderer.selection_glyph = MultiLine(line_color=Spectral4[2], line_width=5)\n",
    "graph_renderer.edge_renderer.hover_glyph = MultiLine(line_color=Spectral4[1], line_width=5)\n",
    "\n",
    "graph_renderer.selection_policy = NodesAndLinkedEdges()\n",
    "graph_renderer.inspection_policy = NodesAndLinkedEdges()\n",
    "\n",
    "plot.renderers.append(graph_renderer)\n",
    "\n",
    "output_file(\"interactive_graphs.html\")\n",
    "show(plot)"
   ]
  },
  {
   "cell_type": "code",
   "execution_count": null,
   "metadata": {
    "collapsed": true
   },
   "outputs": [],
   "source": []
  }
 ],
 "metadata": {
  "kernelspec": {
   "display_name": "Python 3",
   "language": "python",
   "name": "python3"
  }
 },
 "nbformat": 4,
 "nbformat_minor": 2
}
