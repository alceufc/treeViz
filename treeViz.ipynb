{
 "cells": [
  {
   "cell_type": "code",
   "execution_count": 24,
   "metadata": {
    "collapsed": false,
    "deletable": true,
    "editable": true
   },
   "outputs": [],
   "source": [
    "import numpy as np\n",
    "from sklearn import datasets\n",
    "from sklearn import tree\n",
    "from sklearn.tree import _tree\n",
    "import networkx as nx"
   ]
  },
  {
   "cell_type": "markdown",
   "metadata": {},
   "source": [
    "## Loading a sample dataset"
   ]
  },
  {
   "cell_type": "code",
   "execution_count": 25,
   "metadata": {
    "collapsed": false
   },
   "outputs": [
    {
     "data": {
      "text/plain": [
       "DecisionTreeClassifier(class_weight=None, criterion='entropy', max_depth=None,\n",
       "            max_features=None, max_leaf_nodes=None,\n",
       "            min_impurity_split=1e-07, min_samples_leaf=1,\n",
       "            min_samples_split=2, min_weight_fraction_leaf=0.0,\n",
       "            presort=False, random_state=None, splitter='best')"
      ]
     },
     "execution_count": 25,
     "metadata": {},
     "output_type": "execute_result"
    }
   ],
   "source": [
    "# Load iris\n",
    "iris = datasets.load_iris()\n",
    "X = iris.data\n",
    "y = iris.target\n",
    "\n",
    "# Build decision tree classifier\n",
    "dt = tree.DecisionTreeClassifier(criterion='entropy')\n",
    "dt.fit(X, y)"
   ]
  },
  {
   "cell_type": "code",
   "execution_count": 26,
   "metadata": {
    "collapsed": false,
    "deletable": true,
    "editable": true
   },
   "outputs": [],
   "source": [
    "def tree_to_code(tree, feature_names):\n",
    "    '''\n",
    "    Outputs a decision tree model as a Python function\n",
    "\n",
    "    Parameters:\n",
    "    -----------\n",
    "    tree: decision tree model\n",
    "        The decision tree to represent as a function\n",
    "    feature_names: list\n",
    "        The feature names of the dataset used for building the decision tree\n",
    "    '''\n",
    "    g = nx.Graph()\n",
    "    tree_ = tree.tree_\n",
    "    feature_name = [\n",
    "        feature_names[i] if i != _tree.TREE_UNDEFINED else \"undefined!\"\n",
    "        for i in tree_.feature\n",
    "    ]\n",
    "    \n",
    "    print(\"def tree({}):\".format(\", \".join(feature_names)))\n",
    "\n",
    "\n",
    "def tree_to_code(tree, feature_names):\n",
    "\n",
    "    '''\n",
    "    Outputs a decision tree model as a Python function\n",
    "\n",
    "    Parameters:\n",
    "    -----------\n",
    "    tree: decision tree model\n",
    "        The decision tree to represent as a function\n",
    "    feature_names: list\n",
    "        The feature names of the dataset used for building the decision tree\n",
    "    '''\n",
    "\n",
    "    tree_ = tree.tree_\n",
    "    feature_name = [\n",
    "        feature_names[i] if i != _tree.TREE_UNDEFINED else \"undefined!\"\n",
    "        for i in tree_.feature\n",
    "    ]\n",
    "    print(\"def tree({}):\".format(\", \".join(feature_names)))\n",
    "\n",
    "    g = nx.DiGraph()\n",
    "    \n",
    "    def recurse(node, depth, g):\n",
    "        indent = \"  \" * depth\n",
    "        if tree_.feature[node] != _tree.TREE_UNDEFINED:\n",
    "            name = feature_name[node]\n",
    "            threshold = tree_.threshold[node]\n",
    "            node_name = \"{}\\n<=\\n{:.2f}\\n\".format(name, threshold) + ' NODE {}'.format(node)\n",
    "            g.add_node(node_name)\n",
    "            print(\"{}if {} <= {}:\".format(indent, name, threshold))\n",
    "            cl_name = recurse(tree_.children_left[node], depth + 1, g)\n",
    "            g.add_edge(node_name, cl_name, name='yes')\n",
    "            print(\"{}else:\".format(indent, name, threshold))\n",
    "            cr_name = recurse(tree_.children_right[node], depth + 1, g)\n",
    "            g.add_edge(node_name, cr_name, name='no')\n",
    "        else:\n",
    "            node_name = \"return {}\".format(tree_.value[node]) + 'NODE{}'.format(node)\n",
    "            g.add_node(node_name)\n",
    "            print(\"{}return {}\".format(indent, tree_.value[node]))\n",
    "        return node_name\n",
    "    recurse(0, 1, g)\n",
    "    relabel_dict = {}\n",
    "    order_dict = {}\n",
    "    for n in g.nodes:\n",
    "        relabel_dict[n], order = n.split('NODE')\n",
    "        order_dict[relabel_dict[n]] = int(order)\n",
    "    #g = nx.relabel_nodes(g, relabel_dict)\n",
    "    \n",
    "    return g, order_dict"
   ]
  },
  {
   "cell_type": "code",
   "execution_count": 27,
   "metadata": {
    "collapsed": false,
    "deletable": true,
    "editable": true
   },
   "outputs": [
    {
     "name": "stdout",
     "output_type": "stream",
     "text": [
      "def tree(sepal length (cm), sepal width (cm), petal length (cm), petal width (cm)):\n",
      "  if petal width (cm) <= 0.800000011920929:\n",
      "    return [[ 50.   0.   0.]]\n",
      "  else:\n",
      "    if petal width (cm) <= 1.75:\n",
      "      if petal length (cm) <= 4.949999809265137:\n",
      "        if petal width (cm) <= 1.6500000953674316:\n",
      "          return [[  0.  47.   0.]]\n",
      "        else:\n",
      "          return [[ 0.  0.  1.]]\n",
      "      else:\n",
      "        if petal width (cm) <= 1.5499999523162842:\n",
      "          return [[ 0.  0.  3.]]\n",
      "        else:\n",
      "          if petal length (cm) <= 5.449999809265137:\n",
      "            return [[ 0.  2.  0.]]\n",
      "          else:\n",
      "            return [[ 0.  0.  1.]]\n",
      "    else:\n",
      "      if petal length (cm) <= 4.850000381469727:\n",
      "        if sepal length (cm) <= 5.949999809265137:\n",
      "          return [[ 0.  1.  0.]]\n",
      "        else:\n",
      "          return [[ 0.  0.  2.]]\n",
      "      else:\n",
      "        return [[  0.   0.  43.]]\n"
     ]
    }
   ],
   "source": [
    "g, order_dict = tree_to_code(dt, list(iris.feature_names))"
   ]
  },
  {
   "cell_type": "code",
   "execution_count": 28,
   "metadata": {
    "collapsed": true,
    "deletable": true,
    "editable": true
   },
   "outputs": [],
   "source": [
    "def get_root(g):\n",
    "    root = [node for node, deg in g.degree() if deg == 2]\n",
    "    if len(root) != 1:\n",
    "        raise Exception('something wrong')\n",
    "    else:\n",
    "        return root[0]"
   ]
  },
  {
   "cell_type": "code",
   "execution_count": 29,
   "metadata": {
    "collapsed": false,
    "deletable": true,
    "editable": true
   },
   "outputs": [],
   "source": [
    "def set_pos_dict(g, parent, node, pos_dict, dx=1, dy=1, root_coord=(0, 1), eps=0.5):\n",
    "    if parent is None:\n",
    "        node = get_root(g)\n",
    "        x, y = root_coord\n",
    "    else:\n",
    "        x, y = pos_dict[parent]\n",
    "        y = y - dy\n",
    "        edge = g.get_edge_data(parent, node)\n",
    "        if edge['name'] == 'yes':\n",
    "            x = x + dx\n",
    "        else:\n",
    "            x = x - dx\n",
    "    pos_dict[node] = np.array((x, y))\n",
    "    \n",
    "    children = [dest for orig, dest in g.edges if orig == node]\n",
    "    for child in children:\n",
    "        set_pos_dict(g, node, child, pos_dict, dx=dx*eps)"
   ]
  },
  {
   "cell_type": "markdown",
   "metadata": {},
   "source": [
    "## Defining the positions of each condition"
   ]
  },
  {
   "cell_type": "code",
   "execution_count": 30,
   "metadata": {
    "collapsed": false,
    "deletable": true,
    "editable": true
   },
   "outputs": [
    {
     "data": {
      "text/plain": [
       "{'petal length (cm)\\n<=\\n4.85\\n NODE 12': array([-37.5,  -1. ]),\n",
       " 'petal length (cm)\\n<=\\n4.95\\n NODE 3': array([-12.5,  -1. ]),\n",
       " 'petal length (cm)\\n<=\\n5.45\\n NODE 9': array([-21.875,  -3.   ]),\n",
       " 'petal width (cm)\\n<=\\n0.80\\n NODE 0': array([0, 1]),\n",
       " 'petal width (cm)\\n<=\\n1.55\\n NODE 7': array([-18.75,  -2.  ]),\n",
       " 'petal width (cm)\\n<=\\n1.65\\n NODE 4': array([-6.25, -2.  ]),\n",
       " 'petal width (cm)\\n<=\\n1.75\\n NODE 2': array([-25.,   0.]),\n",
       " 'return [[  0.   0.  43.]]NODE16': array([-43.75,  -2.  ]),\n",
       " 'return [[  0.  47.   0.]]NODE5': array([-3.125, -3.   ]),\n",
       " 'return [[ 0.  0.  1.]]NODE11': array([-23.4375,  -4.    ]),\n",
       " 'return [[ 0.  0.  1.]]NODE6': array([-9.375, -3.   ]),\n",
       " 'return [[ 0.  0.  2.]]NODE15': array([-34.375,  -3.   ]),\n",
       " 'return [[ 0.  0.  3.]]NODE8': array([-15.625,  -3.   ]),\n",
       " 'return [[ 0.  1.  0.]]NODE14': array([-28.125,  -3.   ]),\n",
       " 'return [[ 0.  2.  0.]]NODE10': array([-20.3125,  -4.    ]),\n",
       " 'return [[ 50.   0.   0.]]NODE1': array([ 25.,   0.]),\n",
       " 'sepal length (cm)\\n<=\\n5.95\\n NODE 13': array([-31.25,  -2.  ])}"
      ]
     },
     "execution_count": 30,
     "metadata": {},
     "output_type": "execute_result"
    }
   ],
   "source": [
    "pos_dict = {}\n",
    "set_pos_dict(g, None, None, pos_dict, dx=50, dy=3)\n",
    "pos_dict"
   ]
  },
  {
   "cell_type": "markdown",
   "metadata": {},
   "source": [
    "## Defining a layout for plotting"
   ]
  },
  {
   "cell_type": "code",
   "execution_count": 33,
   "metadata": {
    "collapsed": true,
    "deletable": true,
    "editable": true
   },
   "outputs": [],
   "source": [
    "def fun_layout(g, scale=None, center=None, dim=None):\n",
    "    xy = pos.values()\n",
    "    xy = np.array(list(xy))\n",
    "    mean = xy.mean(axis=0)\n",
    "    max_ = np.abs(xy).max(axis=0)\n",
    "    xy = (xy - mean + center)*scale/max_\n",
    "    i = 0\n",
    "    for k, v in pos.items():\n",
    "        pos[k] = xy[i]\n",
    "        i += 1\n",
    "    return pos"
   ]
  },
  {
   "cell_type": "markdown",
   "metadata": {},
   "source": [
    "## Using bokeh to display the tree"
   ]
  },
  {
   "cell_type": "code",
   "execution_count": 34,
   "metadata": {
    "collapsed": false,
    "deletable": true,
    "editable": true
   },
   "outputs": [
    {
     "data": {
      "text/html": [
       "\n",
       "<div class=\"bk-root\">\n",
       "    <div class=\"bk-plotdiv\" id=\"39be0b64-a649-4e05-a4af-9c22adbac494\"></div>\n",
       "</div>"
      ]
     },
     "metadata": {},
     "output_type": "display_data"
    },
    {
     "data": {
      "application/javascript": [
       "(function(root) {\n",
       "  function embed_document(root) {\n",
       "    \n",
       "  var docs_json = {\"d9f6a0a3-6898-4c8a-9b1e-464930f031aa\":{\"roots\":{\"references\":[{\"attributes\":{\"line_color\":{\"value\":\"#abdda4\"},\"line_width\":{\"value\":5}},\"id\":\"7e66ef51-88b7-4350-a140-4ef5cf288807\",\"type\":\"MultiLine\"},{\"attributes\":{\"line_alpha\":{\"value\":0.8},\"line_color\":{\"value\":\"#CCCCCC\"},\"line_width\":{\"value\":5}},\"id\":\"538c64b0-8c5b-4d6c-b4e0-99ac50a1851b\",\"type\":\"MultiLine\"},{\"attributes\":{\"line_color\":{\"value\":\"#fdae61\"},\"line_width\":{\"value\":5}},\"id\":\"04c83c5e-f137-4f4a-9ab6-eb626c9a1cf6\",\"type\":\"MultiLine\"},{\"attributes\":{\"graph_layout\":{\"petal length (cm)\\n<=\\n4.85\\n NODE 12\":[-0.4453781512605042,0.2647058823529411],\"petal length (cm)\\n<=\\n4.95\\n NODE 3\":[0.12605042016806725,0.2647058823529411],\"petal length (cm)\\n<=\\n5.45\\n NODE 9\":[-0.08823529411764704,-0.23529411764705888],\"petal width (cm)\\n<=\\n0.80\\n NODE 0\":[0.411764705882353,0.7647058823529411],\"petal width (cm)\\n<=\\n1.55\\n NODE 7\":[-0.016806722689075612,0.014705882352941124],\"petal width (cm)\\n<=\\n1.65\\n NODE 4\":[0.26890756302521013,0.014705882352941124],\"petal width (cm)\\n<=\\n1.75\\n NODE 2\":[-0.15966386554621848,0.5147058823529411],\"return [[  0.   0.  43.]]NODE16\":[-0.5882352941176471,0.014705882352941124],\"return [[  0.  47.   0.]]NODE5\":[0.3403361344537815,-0.23529411764705888],\"return [[ 0.  0.  1.]]NODE11\":[-0.12394957983193275,-0.4852941176470589],\"return [[ 0.  0.  1.]]NODE6\":[0.19747899159663868,-0.23529411764705888],\"return [[ 0.  0.  2.]]NODE15\":[-0.3739495798319328,-0.23529411764705888],\"return [[ 0.  0.  3.]]NODE8\":[0.05462184873949582,-0.23529411764705888],\"return [[ 0.  1.  0.]]NODE14\":[-0.2310924369747899,-0.23529411764705888],\"return [[ 0.  2.  0.]]NODE10\":[-0.052521008403361324,-0.4852941176470589],\"return [[ 50.   0.   0.]]NODE1\":[0.9831932773109244,0.5147058823529411],\"sepal length (cm)\\n<=\\n5.95\\n NODE 13\":[-0.3025210084033613,0.014705882352941124]}},\"id\":\"d1e2fbe0-18bd-4060-bac0-755b2c903b4e\",\"type\":\"StaticLayoutProvider\"},{\"attributes\":{\"source\":{\"id\":\"5668a2dc-f95d-4972-a312-b3fc06d64878\",\"type\":\"ColumnDataSource\"}},\"id\":\"a57bb718-188c-4e09-9a43-e96abf072878\",\"type\":\"CDSView\"},{\"attributes\":{\"data_source\":{\"id\":\"9f9b609a-0985-4770-bde2-5984f577a46a\",\"type\":\"ColumnDataSource\"},\"glyph\":{\"id\":\"8a58309f-9694-4502-9ea8-dad6a8b0f4be\",\"type\":\"Circle\"},\"hover_glyph\":{\"id\":\"0625e45c-912c-4843-8277-b91dcef88687\",\"type\":\"Circle\"},\"muted_glyph\":null,\"selection_glyph\":{\"id\":\"fe7a8e3f-28ef-42ee-a7b4-43c28fd27339\",\"type\":\"Circle\"},\"view\":{\"id\":\"34b1e6f0-3367-4ac5-9431-089abd4c82ab\",\"type\":\"CDSView\"}},\"id\":\"1de92c60-1733-41e4-9bb5-a6abe169d7c6\",\"type\":\"GlyphRenderer\"},{\"attributes\":{\"fill_color\":{\"value\":\"#abdda4\"},\"size\":{\"units\":\"screen\",\"value\":15}},\"id\":\"0625e45c-912c-4843-8277-b91dcef88687\",\"type\":\"Circle\"},{\"attributes\":{\"callback\":null,\"end\":1.1,\"start\":-1.1},\"id\":\"9f22f2e0-0d80-4b0c-b8d0-b0bef9b6f9fb\",\"type\":\"Range1d\"},{\"attributes\":{\"callback\":null,\"overlay\":{\"id\":\"89f8d404-0706-46dd-9099-0e71a4c97715\",\"type\":\"BoxAnnotation\"}},\"id\":\"b539751a-6976-46d1-8718-7f9c4c9ddd1d\",\"type\":\"BoxSelectTool\"},{\"attributes\":{\"fill_color\":{\"value\":\"#fdae61\"},\"size\":{\"units\":\"screen\",\"value\":15}},\"id\":\"fe7a8e3f-28ef-42ee-a7b4-43c28fd27339\",\"type\":\"Circle\"},{\"attributes\":{\"fill_color\":{\"value\":\"#2b83ba\"},\"size\":{\"units\":\"screen\",\"value\":15}},\"id\":\"8a58309f-9694-4502-9ea8-dad6a8b0f4be\",\"type\":\"Circle\"},{\"attributes\":{\"plot\":null,\"text\":\"Graph Interaction Demonstration\"},\"id\":\"4401b6e1-5634-4503-8637-b8247cfc40f7\",\"type\":\"Title\"},{\"attributes\":{\"active_drag\":\"auto\",\"active_inspect\":\"auto\",\"active_scroll\":\"auto\",\"active_tap\":\"auto\",\"tools\":[{\"id\":\"3181261a-e261-4752-b19c-4b42626ef0ac\",\"type\":\"HoverTool\"},{\"id\":\"a5ff7840-000a-4525-baaf-c8f0cc4b4790\",\"type\":\"TapTool\"},{\"id\":\"b539751a-6976-46d1-8718-7f9c4c9ddd1d\",\"type\":\"BoxSelectTool\"},{\"id\":\"1893252d-05dc-4973-8876-149af75d3249\",\"type\":\"WheelZoomTool\"}]},\"id\":\"eee31f8a-ea6f-4f51-9bf3-520cc3b345c7\",\"type\":\"Toolbar\"},{\"attributes\":{\"edge_renderer\":{\"id\":\"4369fe6b-28c8-4400-af36-3ec4e9fdb8f4\",\"type\":\"GlyphRenderer\"},\"inspection_policy\":{\"id\":\"6f47c829-ccf2-43ec-8f06-a511868f23ba\",\"type\":\"NodesAndLinkedEdges\"},\"layout_provider\":{\"id\":\"d1e2fbe0-18bd-4060-bac0-755b2c903b4e\",\"type\":\"StaticLayoutProvider\"},\"node_renderer\":{\"id\":\"1de92c60-1733-41e4-9bb5-a6abe169d7c6\",\"type\":\"GlyphRenderer\"},\"selection_policy\":{\"id\":\"625a79ed-515c-47bd-a846-92b63cb113df\",\"type\":\"NodesAndLinkedEdges\"}},\"id\":\"1f3f348c-3bb1-4a53-ad74-256dd983ea06\",\"type\":\"GraphRenderer\"},{\"attributes\":{},\"id\":\"1893252d-05dc-4973-8876-149af75d3249\",\"type\":\"WheelZoomTool\"},{\"attributes\":{\"plot_height\":400,\"plot_width\":400,\"renderers\":[{\"id\":\"89f8d404-0706-46dd-9099-0e71a4c97715\",\"type\":\"BoxAnnotation\"},{\"id\":\"1f3f348c-3bb1-4a53-ad74-256dd983ea06\",\"type\":\"GraphRenderer\"}],\"title\":{\"id\":\"4401b6e1-5634-4503-8637-b8247cfc40f7\",\"type\":\"Title\"},\"toolbar\":{\"id\":\"eee31f8a-ea6f-4f51-9bf3-520cc3b345c7\",\"type\":\"Toolbar\"},\"x_range\":{\"id\":\"9f22f2e0-0d80-4b0c-b8d0-b0bef9b6f9fb\",\"type\":\"Range1d\"},\"x_scale\":{\"id\":\"bdfa35ee-41c7-4651-ba03-c226426a76ca\",\"type\":\"LinearScale\"},\"y_range\":{\"id\":\"50c3cdd3-23b0-432c-9b25-bfe5662ab017\",\"type\":\"Range1d\"},\"y_scale\":{\"id\":\"4095f9c0-bc2d-4845-af28-038f2c5e4f30\",\"type\":\"LinearScale\"}},\"id\":\"3950c242-1bd8-4847-8982-567343ec9d69\",\"type\":\"Plot\"},{\"attributes\":{\"callback\":null},\"id\":\"a5ff7840-000a-4525-baaf-c8f0cc4b4790\",\"type\":\"TapTool\"},{\"attributes\":{},\"id\":\"625a79ed-515c-47bd-a846-92b63cb113df\",\"type\":\"NodesAndLinkedEdges\"},{\"attributes\":{},\"id\":\"4095f9c0-bc2d-4845-af28-038f2c5e4f30\",\"type\":\"LinearScale\"},{\"attributes\":{\"callback\":null,\"column_names\":[\"index\"],\"data\":{\"index\":[\"return [[ 0.  2.  0.]]NODE10\",\"return [[  0.  47.   0.]]NODE5\",\"return [[ 0.  0.  2.]]NODE15\",\"return [[ 0.  0.  1.]]NODE11\",\"return [[ 0.  0.  1.]]NODE6\",\"petal width (cm)\\n<=\\n1.55\\n NODE 7\",\"petal length (cm)\\n<=\\n5.45\\n NODE 9\",\"return [[  0.   0.  43.]]NODE16\",\"return [[ 0.  0.  3.]]NODE8\",\"petal width (cm)\\n<=\\n1.75\\n NODE 2\",\"petal length (cm)\\n<=\\n4.85\\n NODE 12\",\"petal width (cm)\\n<=\\n1.65\\n NODE 4\",\"sepal length (cm)\\n<=\\n5.95\\n NODE 13\",\"return [[ 0.  1.  0.]]NODE14\",\"petal length (cm)\\n<=\\n4.95\\n NODE 3\",\"petal width (cm)\\n<=\\n0.80\\n NODE 0\",\"return [[ 50.   0.   0.]]NODE1\"],\"name\":[\"return [[ 0.  2.  0.]]\",\"return [[  0.  47.   0.]]\",\"return [[ 0.  0.  2.]]\",\"return [[ 0.  0.  1.]]\",\"return [[ 0.  0.  1.]]\",\"petal width (cm)\\n<=\\n1.55\\n \",\"petal length (cm)\\n<=\\n5.45\\n \",\"return [[  0.   0.  43.]]\",\"return [[ 0.  0.  3.]]\",\"petal width (cm)\\n<=\\n1.75\\n \",\"petal length (cm)\\n<=\\n4.85\\n \",\"petal width (cm)\\n<=\\n1.65\\n \",\"sepal length (cm)\\n<=\\n5.95\\n \",\"return [[ 0.  1.  0.]]\",\"petal length (cm)\\n<=\\n4.95\\n \",\"petal width (cm)\\n<=\\n0.80\\n \",\"return [[ 50.   0.   0.]]\"]},\"selected\":null,\"selection_policy\":null},\"id\":\"9f9b609a-0985-4770-bde2-5984f577a46a\",\"type\":\"ColumnDataSource\"},{\"attributes\":{},\"id\":\"6f47c829-ccf2-43ec-8f06-a511868f23ba\",\"type\":\"NodesAndLinkedEdges\"},{\"attributes\":{\"source\":{\"id\":\"9f9b609a-0985-4770-bde2-5984f577a46a\",\"type\":\"ColumnDataSource\"}},\"id\":\"34b1e6f0-3367-4ac5-9431-089abd4c82ab\",\"type\":\"CDSView\"},{\"attributes\":{\"callback\":null,\"column_names\":[\"start\",\"end\"],\"data\":{\"end\":[\"return [[ 0.  0.  3.]]NODE8\",\"petal length (cm)\\n<=\\n5.45\\n NODE 9\",\"return [[ 0.  0.  1.]]NODE11\",\"return [[ 0.  2.  0.]]NODE10\",\"petal length (cm)\\n<=\\n4.85\\n NODE 12\",\"petal length (cm)\\n<=\\n4.95\\n NODE 3\",\"sepal length (cm)\\n<=\\n5.95\\n NODE 13\",\"return [[  0.   0.  43.]]NODE16\",\"return [[ 0.  0.  1.]]NODE6\",\"return [[  0.  47.   0.]]NODE5\",\"return [[ 0.  1.  0.]]NODE14\",\"return [[ 0.  0.  2.]]NODE15\",\"petal width (cm)\\n<=\\n1.55\\n NODE 7\",\"petal width (cm)\\n<=\\n1.65\\n NODE 4\",\"petal width (cm)\\n<=\\n1.75\\n NODE 2\",\"return [[ 50.   0.   0.]]NODE1\"],\"start\":[\"petal width (cm)\\n<=\\n1.55\\n NODE 7\",\"petal width (cm)\\n<=\\n1.55\\n NODE 7\",\"petal length (cm)\\n<=\\n5.45\\n NODE 9\",\"petal length (cm)\\n<=\\n5.45\\n NODE 9\",\"petal width (cm)\\n<=\\n1.75\\n NODE 2\",\"petal width (cm)\\n<=\\n1.75\\n NODE 2\",\"petal length (cm)\\n<=\\n4.85\\n NODE 12\",\"petal length (cm)\\n<=\\n4.85\\n NODE 12\",\"petal width (cm)\\n<=\\n1.65\\n NODE 4\",\"petal width (cm)\\n<=\\n1.65\\n NODE 4\",\"sepal length (cm)\\n<=\\n5.95\\n NODE 13\",\"sepal length (cm)\\n<=\\n5.95\\n NODE 13\",\"petal length (cm)\\n<=\\n4.95\\n NODE 3\",\"petal length (cm)\\n<=\\n4.95\\n NODE 3\",\"petal width (cm)\\n<=\\n0.80\\n NODE 0\",\"petal width (cm)\\n<=\\n0.80\\n NODE 0\"]},\"selected\":null,\"selection_policy\":null},\"id\":\"5668a2dc-f95d-4972-a312-b3fc06d64878\",\"type\":\"ColumnDataSource\"},{\"attributes\":{},\"id\":\"bdfa35ee-41c7-4651-ba03-c226426a76ca\",\"type\":\"LinearScale\"},{\"attributes\":{\"data_source\":{\"id\":\"5668a2dc-f95d-4972-a312-b3fc06d64878\",\"type\":\"ColumnDataSource\"},\"glyph\":{\"id\":\"538c64b0-8c5b-4d6c-b4e0-99ac50a1851b\",\"type\":\"MultiLine\"},\"hover_glyph\":{\"id\":\"7e66ef51-88b7-4350-a140-4ef5cf288807\",\"type\":\"MultiLine\"},\"muted_glyph\":null,\"selection_glyph\":{\"id\":\"04c83c5e-f137-4f4a-9ab6-eb626c9a1cf6\",\"type\":\"MultiLine\"},\"view\":{\"id\":\"a57bb718-188c-4e09-9a43-e96abf072878\",\"type\":\"CDSView\"}},\"id\":\"4369fe6b-28c8-4400-af36-3ec4e9fdb8f4\",\"type\":\"GlyphRenderer\"},{\"attributes\":{\"bottom_units\":\"screen\",\"fill_alpha\":{\"value\":0.5},\"fill_color\":{\"value\":\"lightgrey\"},\"left_units\":\"screen\",\"level\":\"overlay\",\"line_alpha\":{\"value\":1.0},\"line_color\":{\"value\":\"black\"},\"line_dash\":[4,4],\"line_width\":{\"value\":2},\"plot\":null,\"render_mode\":\"css\",\"right_units\":\"screen\",\"top_units\":\"screen\"},\"id\":\"89f8d404-0706-46dd-9099-0e71a4c97715\",\"type\":\"BoxAnnotation\"},{\"attributes\":{\"callback\":null,\"end\":1.1,\"start\":-1.1},\"id\":\"50c3cdd3-23b0-432c-9b25-bfe5662ab017\",\"type\":\"Range1d\"},{\"attributes\":{\"callback\":null,\"tooltips\":[[\"Name:\",\"@name\"]]},\"id\":\"3181261a-e261-4752-b19c-4b42626ef0ac\",\"type\":\"HoverTool\"}],\"root_ids\":[\"3950c242-1bd8-4847-8982-567343ec9d69\"]},\"title\":\"Bokeh Application\",\"version\":\"0.12.15\"}};\n",
       "  var render_items = [{\"docid\":\"d9f6a0a3-6898-4c8a-9b1e-464930f031aa\",\"elementid\":\"39be0b64-a649-4e05-a4af-9c22adbac494\",\"modelid\":\"3950c242-1bd8-4847-8982-567343ec9d69\"}];\n",
       "  root.Bokeh.embed.embed_items_notebook(docs_json, render_items);\n",
       "\n",
       "  }\n",
       "  if (root.Bokeh !== undefined) {\n",
       "    embed_document(root);\n",
       "  } else {\n",
       "    var attempts = 0;\n",
       "    var timer = setInterval(function(root) {\n",
       "      if (root.Bokeh !== undefined) {\n",
       "        embed_document(root);\n",
       "        clearInterval(timer);\n",
       "      }\n",
       "      attempts++;\n",
       "      if (attempts > 100) {\n",
       "        console.log(\"Bokeh: ERROR: Unable to run BokehJS code because BokehJS library is missing\")\n",
       "        clearInterval(timer);\n",
       "      }\n",
       "    }, 10, root)\n",
       "  }\n",
       "})(window);"
      ],
      "application/vnd.bokehjs_exec.v0+json": ""
     },
     "metadata": {
      "application/vnd.bokehjs_exec.v0+json": {
       "id": "3950c242-1bd8-4847-8982-567343ec9d69"
      }
     },
     "output_type": "display_data"
    }
   ],
   "source": [
    "import networkx as nx\n",
    "\n",
    "from bokeh.io import show, output_file\n",
    "from bokeh.models import Plot, Range1d, MultiLine, Circle, HoverTool, TapTool, BoxSelectTool, WheelZoomTool\n",
    "from bokeh.models.graphs import from_networkx, NodesAndLinkedEdges, EdgesAndLinkedNodes\n",
    "from bokeh.palettes import Spectral4\n",
    "\n",
    "G = g\n",
    "plot = Plot(plot_width=400, plot_height=400,\n",
    "            x_range=Range1d(-1.1,1.1), y_range=Range1d(-1.1,1.1))\n",
    "plot.title.text = \"Graph Interaction Demonstration\"\n",
    "hover = HoverTool(tooltips=[(\"Name:\", \"@name\")])\n",
    "plot.add_tools(hover, TapTool(), BoxSelectTool(), WheelZoomTool())\n",
    "\n",
    "graph_renderer = from_networkx(G, fun_layout, scale=1, center=(0,0))\n",
    "\n",
    "graph_renderer.node_renderer.glyph = Circle(size=15, fill_color=Spectral4[0])\n",
    "graph_renderer.node_renderer.selection_glyph = Circle(size=15, fill_color=Spectral4[2])\n",
    "graph_renderer.node_renderer.hover_glyph = Circle(size=15, fill_color=Spectral4[1])\n",
    "graph_renderer.node_renderer.data_source.data['name'] = [e.split('NODE')[0] for e in list(g.nodes)]\n",
    "\n",
    "\n",
    "graph_renderer.edge_renderer.glyph = MultiLine(line_color=\"#CCCCCC\", line_alpha=0.8, line_width=5)\n",
    "graph_renderer.edge_renderer.selection_glyph = MultiLine(line_color=Spectral4[2], line_width=5)\n",
    "graph_renderer.edge_renderer.hover_glyph = MultiLine(line_color=Spectral4[1], line_width=5)\n",
    "\n",
    "graph_renderer.selection_policy = NodesAndLinkedEdges()\n",
    "graph_renderer.inspection_policy = NodesAndLinkedEdges()\n",
    "\n",
    "plot.renderers.append(graph_renderer)\n",
    "\n",
    "output_file(\"interactive_graphs.html\")\n",
    "show(plot)"
   ]
  },
  {
   "cell_type": "code",
   "execution_count": null,
   "metadata": {
    "collapsed": true
   },
   "outputs": [],
   "source": [
    "## "
   ]
  }
 ],
 "metadata": {
  "kernelspec": {
   "display_name": "Python 3",
   "language": "python",
   "name": "python3"
  },
  "language_info": {
   "codemirror_mode": {
    "name": "ipython",
    "version": 3
   },
   "file_extension": ".py",
   "mimetype": "text/x-python",
   "name": "python",
   "nbconvert_exporter": "python",
   "pygments_lexer": "ipython3",
   "version": "3.5.2"
  }
 },
 "nbformat": 4,
 "nbformat_minor": 2
}
