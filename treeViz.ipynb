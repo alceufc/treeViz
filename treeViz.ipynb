{
 "cells": [
  {
   "cell_type": "code",
   "execution_count": 1,
   "metadata": {},
   "outputs": [],
   "source": [
    "import numpy as np\n",
    "from sklearn import datasets\n",
    "from sklearn import tree\n",
    "from sklearn.tree import _tree\n",
    "import networkx as nx"
   ]
  },
  {
   "cell_type": "markdown",
   "metadata": {},
   "source": [
    "## Loading a sample dataset"
   ]
  },
  {
   "cell_type": "code",
   "execution_count": 2,
   "metadata": {},
   "outputs": [
    {
     "data": {
      "text/plain": [
       "DecisionTreeClassifier(class_weight=None, criterion='entropy', max_depth=None,\n",
       "            max_features=None, max_leaf_nodes=None,\n",
       "            min_impurity_decrease=0.0, min_impurity_split=None,\n",
       "            min_samples_leaf=1, min_samples_split=2,\n",
       "            min_weight_fraction_leaf=0.0, presort=False, random_state=None,\n",
       "            splitter='best')"
      ]
     },
     "execution_count": 2,
     "metadata": {},
     "output_type": "execute_result"
    }
   ],
   "source": [
    "# Load iris\n",
    "iris = datasets.load_iris()\n",
    "X = iris.data\n",
    "y = iris.target\n",
    "\n",
    "# Build decision tree classifier\n",
    "dt = tree.DecisionTreeClassifier(criterion='entropy')\n",
    "dt.fit(X, y)"
   ]
  },
  {
   "cell_type": "code",
   "execution_count": 13,
   "metadata": {},
   "outputs": [],
   "source": [
    "tree_ = dt.tree_"
   ]
  },
  {
   "cell_type": "code",
   "execution_count": 16,
   "metadata": {},
   "outputs": [],
   "source": [
    "feature_names = list(iris.feature_names)"
   ]
  },
  {
   "cell_type": "code",
   "execution_count": 17,
   "metadata": {},
   "outputs": [],
   "source": [
    "feature_name = [\n",
    "    feature_names[i] if i != _tree.TREE_UNDEFINED else \"undefined!\"\n",
    "    for i in tree_.feature\n",
    "]"
   ]
  },
  {
   "cell_type": "code",
   "execution_count": 19,
   "metadata": {},
   "outputs": [
    {
     "data": {
      "text/plain": [
       "17"
      ]
     },
     "execution_count": 19,
     "metadata": {},
     "output_type": "execute_result"
    }
   ],
   "source": [
    "tree_.node_count"
   ]
  },
  {
   "cell_type": "code",
   "execution_count": 23,
   "metadata": {},
   "outputs": [],
   "source": [
    "node_features = ['undefined' if f == _tree.TREE_UNDEFINED else feature_names[f] \n",
    "                     for f in tree_.feature] "
   ]
  },
  {
   "cell_type": "code",
   "execution_count": 24,
   "metadata": {},
   "outputs": [
    {
     "data": {
      "text/plain": [
       "['petal length (cm)',\n",
       " 'undefined',\n",
       " 'petal width (cm)',\n",
       " 'petal length (cm)',\n",
       " 'petal width (cm)',\n",
       " 'undefined',\n",
       " 'undefined',\n",
       " 'petal width (cm)',\n",
       " 'undefined',\n",
       " 'sepal length (cm)',\n",
       " 'undefined',\n",
       " 'undefined',\n",
       " 'petal length (cm)',\n",
       " 'sepal width (cm)',\n",
       " 'undefined',\n",
       " 'undefined',\n",
       " 'undefined']"
      ]
     },
     "execution_count": 24,
     "metadata": {},
     "output_type": "execute_result"
    }
   ],
   "source": [
    "node_features"
   ]
  },
  {
   "cell_type": "code",
   "execution_count": 3,
   "metadata": {},
   "outputs": [],
   "source": [
    "def tree_to_code(tree, feature_names):\n",
    "    '''\n",
    "    Outputs a decision tree model as a Python function\n",
    "\n",
    "    Parameters:\n",
    "    -----------\n",
    "    tree: decision tree model\n",
    "        The decision tree to represent as a function\n",
    "    feature_names: list\n",
    "        The feature names of the dataset used for building the decision tree\n",
    "    '''\n",
    "\n",
    "    tree_ = tree.tree_\n",
    "    feature_name = [\n",
    "        feature_names[i] if i != _tree.TREE_UNDEFINED else \"undefined!\"\n",
    "        for i in tree_.feature\n",
    "    ]\n",
    "    print(\"def tree({}):\".format(\", \".join(feature_names)))\n",
    "\n",
    "    g = nx.DiGraph()\n",
    "    \n",
    "    def recurse(node, depth, g):\n",
    "        indent = \"  \" * depth\n",
    "        if tree_.feature[node] != _tree.TREE_UNDEFINED:\n",
    "            name = feature_name[node]\n",
    "            threshold = tree_.threshold[node]\n",
    "            node_name = \"{}\\n<=\\n{:.2f}\\n\".format(name, threshold) + ' NODE {}'.format(node)\n",
    "            g.add_node(node_name)\n",
    "            print(\"{}if {} <= {}:\".format(indent, name, threshold))\n",
    "            cl_name = recurse(tree_.children_left[node], depth + 1, g)\n",
    "            g.add_edge(node_name, cl_name, name='yes')\n",
    "            print(\"{}else:\".format(indent, name, threshold))\n",
    "            cr_name = recurse(tree_.children_right[node], depth + 1, g)\n",
    "            g.add_edge(node_name, cr_name, name='no')\n",
    "        else:\n",
    "            node_name = \"return {}\".format(tree_.value[node]) + 'NODE{}'.format(node)\n",
    "            g.add_node(node_name)\n",
    "            print(\"{}return {}\".format(indent, tree_.value[node]))\n",
    "        return node_name\n",
    "    recurse(0, 1, g)\n",
    "    relabel_dict = {}\n",
    "    order_dict = {}\n",
    "    for n in g.nodes():\n",
    "        relabel_dict[n], order = n.split('NODE')\n",
    "        order_dict[relabel_dict[n]] = int(order)\n",
    "    \n",
    "    return g, order_dict"
   ]
  },
  {
   "cell_type": "code",
   "execution_count": 4,
   "metadata": {},
   "outputs": [
    {
     "name": "stdout",
     "output_type": "stream",
     "text": [
      "def tree(sepal length (cm), sepal width (cm), petal length (cm), petal width (cm)):\n",
      "  if petal length (cm) <= 2.450000047683716:\n",
      "    return [[ 50.   0.   0.]]\n",
      "  else:\n",
      "    if petal width (cm) <= 1.75:\n",
      "      if petal length (cm) <= 4.949999809265137:\n",
      "        if petal width (cm) <= 1.6500000953674316:\n",
      "          return [[  0.  47.   0.]]\n",
      "        else:\n",
      "          return [[ 0.  0.  1.]]\n",
      "      else:\n",
      "        if petal width (cm) <= 1.5499999523162842:\n",
      "          return [[ 0.  0.  3.]]\n",
      "        else:\n",
      "          if sepal length (cm) <= 6.949999809265137:\n",
      "            return [[ 0.  2.  0.]]\n",
      "          else:\n",
      "            return [[ 0.  0.  1.]]\n",
      "    else:\n",
      "      if petal length (cm) <= 4.850000381469727:\n",
      "        if sepal width (cm) <= 3.0999999046325684:\n",
      "          return [[ 0.  0.  2.]]\n",
      "        else:\n",
      "          return [[ 0.  1.  0.]]\n",
      "      else:\n",
      "        return [[  0.   0.  43.]]\n"
     ]
    }
   ],
   "source": [
    "g, order_dict = tree_to_code(dt, list(iris.feature_names))"
   ]
  },
  {
   "cell_type": "code",
   "execution_count": 5,
   "metadata": {
    "collapsed": true
   },
   "outputs": [],
   "source": [
    "def get_root(g):\n",
    "    root = [node for node, deg in g.degree_iter() if deg == 2]\n",
    "    if len(root) != 1:\n",
    "        raise Exception('something wrong')\n",
    "    else:\n",
    "        return root[0]"
   ]
  },
  {
   "cell_type": "code",
   "execution_count": 9,
   "metadata": {},
   "outputs": [],
   "source": [
    "def get_node_positions(g, dx=50, dy=3, root_coord=(0, 1), eps=0.5):\n",
    "    '''Define node positions for the graph g that represents the decision tree.\n",
    "    '''\n",
    "    # Set up values and call get_node_positions_rec.\n",
    "    parent = None\n",
    "    node = None\n",
    "    pos_dict = {}\n",
    "    get_node_positions_rec(g, parent, node, pos_dict, \n",
    "                           dx=dx, dy=dy, root_coord=root_coord, eps=eps)\n",
    "    return pos_dict\n",
    "    \n",
    "\n",
    "def get_node_positions_rec(g, parent, node, pos_dict, \n",
    "                           dx=1, dy=1, root_coord=(0, 1), eps=0.5):\n",
    "    '''Recursively defines node positions for the graph g that represents a decision tree.\n",
    "    NOTE: Do not call this function directly. Use get_node_positions instead.\n",
    "    '''\n",
    "    if parent is None:\n",
    "        node = get_root(g)\n",
    "        x, y = root_coord\n",
    "    else:\n",
    "        x, y = pos_dict[parent]\n",
    "        y = y - dy\n",
    "        edge = g.get_edge_data(parent, node)\n",
    "        if edge['name'] == 'yes':\n",
    "            x = x + dx\n",
    "        else:\n",
    "            x = x - dx\n",
    "    pos_dict[node] = np.array((x, y))\n",
    "    \n",
    "    children = [dest for orig, dest in g.edges() if orig == node]\n",
    "    for child in children:\n",
    "        get_node_positions_rec(g, node, child, pos_dict, dx=dx*eps)"
   ]
  },
  {
   "cell_type": "markdown",
   "metadata": {},
   "source": [
    "## Defining a layout for plotting"
   ]
  },
  {
   "cell_type": "code",
   "execution_count": 10,
   "metadata": {
    "collapsed": true
   },
   "outputs": [],
   "source": [
    "def fun_layout(g, scale=1, center=(0,0)):\n",
    "    pos = get_node_positions(g)\n",
    "    xy = pos.values()\n",
    "    xy = np.array(list(xy))\n",
    "    mean = xy.mean(axis=0)\n",
    "    max_ = np.abs(xy).max(axis=0)\n",
    "    xy = (xy - mean + center)*scale/max_\n",
    "    i = 0\n",
    "    for k, v in pos.items():\n",
    "        pos[k] = xy[i]\n",
    "        i += 1\n",
    "    return pos"
   ]
  },
  {
   "cell_type": "markdown",
   "metadata": {},
   "source": [
    "## Using bokeh to display the tree"
   ]
  },
  {
   "cell_type": "code",
   "execution_count": 11,
   "metadata": {},
   "outputs": [
    {
     "data": {
      "text/html": [
       "\n",
       "    <div class=\"bk-root\">\n",
       "        <a href=\"https://bokeh.pydata.org\" target=\"_blank\" class=\"bk-logo bk-logo-small bk-logo-notebook\"></a>\n",
       "        <span id=\"5fcd1908-f7da-41cd-9cfd-226efcfa3380\">Loading BokehJS ...</span>\n",
       "    </div>"
      ]
     },
     "metadata": {},
     "output_type": "display_data"
    },
    {
     "data": {
      "application/javascript": [
       "\n",
       "(function(root) {\n",
       "  function now() {\n",
       "    return new Date();\n",
       "  }\n",
       "\n",
       "  var force = true;\n",
       "\n",
       "  if (typeof (root._bokeh_onload_callbacks) === \"undefined\" || force === true) {\n",
       "    root._bokeh_onload_callbacks = [];\n",
       "    root._bokeh_is_loading = undefined;\n",
       "  }\n",
       "\n",
       "  var JS_MIME_TYPE = 'application/javascript';\n",
       "  var HTML_MIME_TYPE = 'text/html';\n",
       "  var EXEC_MIME_TYPE = 'application/vnd.bokehjs_exec.v0+json';\n",
       "  var CLASS_NAME = 'output_bokeh rendered_html';\n",
       "\n",
       "  /**\n",
       "   * Render data to the DOM node\n",
       "   */\n",
       "  function render(props, node) {\n",
       "    var script = document.createElement(\"script\");\n",
       "    node.appendChild(script);\n",
       "  }\n",
       "\n",
       "  /**\n",
       "   * Handle when an output is cleared or removed\n",
       "   */\n",
       "  function handleClearOutput(event, handle) {\n",
       "    var cell = handle.cell;\n",
       "\n",
       "    var id = cell.output_area._bokeh_element_id;\n",
       "    var server_id = cell.output_area._bokeh_server_id;\n",
       "    // Clean up Bokeh references\n",
       "    if (id !== undefined) {\n",
       "      Bokeh.index[id].model.document.clear();\n",
       "      delete Bokeh.index[id];\n",
       "    }\n",
       "\n",
       "    if (server_id !== undefined) {\n",
       "      // Clean up Bokeh references\n",
       "      var cmd = \"from bokeh.io.state import curstate; print(curstate().uuid_to_server['\" + server_id + \"'].get_sessions()[0].document.roots[0]._id)\";\n",
       "      cell.notebook.kernel.execute(cmd, {\n",
       "        iopub: {\n",
       "          output: function(msg) {\n",
       "            var element_id = msg.content.text.trim();\n",
       "            Bokeh.index[element_id].model.document.clear();\n",
       "            delete Bokeh.index[element_id];\n",
       "          }\n",
       "        }\n",
       "      });\n",
       "      // Destroy server and session\n",
       "      var cmd = \"import bokeh.io.notebook as ion; ion.destroy_server('\" + server_id + \"')\";\n",
       "      cell.notebook.kernel.execute(cmd);\n",
       "    }\n",
       "  }\n",
       "\n",
       "  /**\n",
       "   * Handle when a new output is added\n",
       "   */\n",
       "  function handleAddOutput(event, handle) {\n",
       "    var output_area = handle.output_area;\n",
       "    var output = handle.output;\n",
       "\n",
       "    // limit handleAddOutput to display_data with EXEC_MIME_TYPE content only\n",
       "    if ((output.output_type != \"display_data\") || (!output.data.hasOwnProperty(EXEC_MIME_TYPE))) {\n",
       "      return\n",
       "    }\n",
       "\n",
       "    var toinsert = output_area.element.find(\".\" + CLASS_NAME.split(' ')[0]);\n",
       "\n",
       "    if (output.metadata[EXEC_MIME_TYPE][\"id\"] !== undefined) {\n",
       "      toinsert[0].firstChild.textContent = output.data[JS_MIME_TYPE];\n",
       "      // store reference to embed id on output_area\n",
       "      output_area._bokeh_element_id = output.metadata[EXEC_MIME_TYPE][\"id\"];\n",
       "    }\n",
       "    if (output.metadata[EXEC_MIME_TYPE][\"server_id\"] !== undefined) {\n",
       "      var bk_div = document.createElement(\"div\");\n",
       "      bk_div.innerHTML = output.data[HTML_MIME_TYPE];\n",
       "      var script_attrs = bk_div.children[0].attributes;\n",
       "      for (var i = 0; i < script_attrs.length; i++) {\n",
       "        toinsert[0].firstChild.setAttribute(script_attrs[i].name, script_attrs[i].value);\n",
       "      }\n",
       "      // store reference to server id on output_area\n",
       "      output_area._bokeh_server_id = output.metadata[EXEC_MIME_TYPE][\"server_id\"];\n",
       "    }\n",
       "  }\n",
       "\n",
       "  function register_renderer(events, OutputArea) {\n",
       "\n",
       "    function append_mime(data, metadata, element) {\n",
       "      // create a DOM node to render to\n",
       "      var toinsert = this.create_output_subarea(\n",
       "        metadata,\n",
       "        CLASS_NAME,\n",
       "        EXEC_MIME_TYPE\n",
       "      );\n",
       "      this.keyboard_manager.register_events(toinsert);\n",
       "      // Render to node\n",
       "      var props = {data: data, metadata: metadata[EXEC_MIME_TYPE]};\n",
       "      render(props, toinsert[0]);\n",
       "      element.append(toinsert);\n",
       "      return toinsert\n",
       "    }\n",
       "\n",
       "    /* Handle when an output is cleared or removed */\n",
       "    events.on('clear_output.CodeCell', handleClearOutput);\n",
       "    events.on('delete.Cell', handleClearOutput);\n",
       "\n",
       "    /* Handle when a new output is added */\n",
       "    events.on('output_added.OutputArea', handleAddOutput);\n",
       "\n",
       "    /**\n",
       "     * Register the mime type and append_mime function with output_area\n",
       "     */\n",
       "    OutputArea.prototype.register_mime_type(EXEC_MIME_TYPE, append_mime, {\n",
       "      /* Is output safe? */\n",
       "      safe: true,\n",
       "      /* Index of renderer in `output_area.display_order` */\n",
       "      index: 0\n",
       "    });\n",
       "  }\n",
       "\n",
       "  // register the mime type if in Jupyter Notebook environment and previously unregistered\n",
       "  if (root.Jupyter !== undefined) {\n",
       "    var events = require('base/js/events');\n",
       "    var OutputArea = require('notebook/js/outputarea').OutputArea;\n",
       "\n",
       "    if (OutputArea.prototype.mime_types().indexOf(EXEC_MIME_TYPE) == -1) {\n",
       "      register_renderer(events, OutputArea);\n",
       "    }\n",
       "  }\n",
       "\n",
       "  \n",
       "  if (typeof (root._bokeh_timeout) === \"undefined\" || force === true) {\n",
       "    root._bokeh_timeout = Date.now() + 5000;\n",
       "    root._bokeh_failed_load = false;\n",
       "  }\n",
       "\n",
       "  var NB_LOAD_WARNING = {'data': {'text/html':\n",
       "     \"<div style='background-color: #fdd'>\\n\"+\n",
       "     \"<p>\\n\"+\n",
       "     \"BokehJS does not appear to have successfully loaded. If loading BokehJS from CDN, this \\n\"+\n",
       "     \"may be due to a slow or bad network connection. Possible fixes:\\n\"+\n",
       "     \"</p>\\n\"+\n",
       "     \"<ul>\\n\"+\n",
       "     \"<li>re-rerun `output_notebook()` to attempt to load from CDN again, or</li>\\n\"+\n",
       "     \"<li>use INLINE resources instead, as so:</li>\\n\"+\n",
       "     \"</ul>\\n\"+\n",
       "     \"<code>\\n\"+\n",
       "     \"from bokeh.resources import INLINE\\n\"+\n",
       "     \"output_notebook(resources=INLINE)\\n\"+\n",
       "     \"</code>\\n\"+\n",
       "     \"</div>\"}};\n",
       "\n",
       "  function display_loaded() {\n",
       "    var el = document.getElementById(\"5fcd1908-f7da-41cd-9cfd-226efcfa3380\");\n",
       "    if (el != null) {\n",
       "      el.textContent = \"BokehJS is loading...\";\n",
       "    }\n",
       "    if (root.Bokeh !== undefined) {\n",
       "      if (el != null) {\n",
       "        el.textContent = \"BokehJS \" + root.Bokeh.version + \" successfully loaded.\";\n",
       "      }\n",
       "    } else if (Date.now() < root._bokeh_timeout) {\n",
       "      setTimeout(display_loaded, 100)\n",
       "    }\n",
       "  }\n",
       "\n",
       "\n",
       "  function run_callbacks() {\n",
       "    try {\n",
       "      root._bokeh_onload_callbacks.forEach(function(callback) { callback() });\n",
       "    }\n",
       "    finally {\n",
       "      delete root._bokeh_onload_callbacks\n",
       "    }\n",
       "    console.info(\"Bokeh: all callbacks have finished\");\n",
       "  }\n",
       "\n",
       "  function load_libs(js_urls, callback) {\n",
       "    root._bokeh_onload_callbacks.push(callback);\n",
       "    if (root._bokeh_is_loading > 0) {\n",
       "      console.log(\"Bokeh: BokehJS is being loaded, scheduling callback at\", now());\n",
       "      return null;\n",
       "    }\n",
       "    if (js_urls == null || js_urls.length === 0) {\n",
       "      run_callbacks();\n",
       "      return null;\n",
       "    }\n",
       "    console.log(\"Bokeh: BokehJS not loaded, scheduling load and callback at\", now());\n",
       "    root._bokeh_is_loading = js_urls.length;\n",
       "    for (var i = 0; i < js_urls.length; i++) {\n",
       "      var url = js_urls[i];\n",
       "      var s = document.createElement('script');\n",
       "      s.src = url;\n",
       "      s.async = false;\n",
       "      s.onreadystatechange = s.onload = function() {\n",
       "        root._bokeh_is_loading--;\n",
       "        if (root._bokeh_is_loading === 0) {\n",
       "          console.log(\"Bokeh: all BokehJS libraries loaded\");\n",
       "          run_callbacks()\n",
       "        }\n",
       "      };\n",
       "      s.onerror = function() {\n",
       "        console.warn(\"failed to load library \" + url);\n",
       "      };\n",
       "      console.log(\"Bokeh: injecting script tag for BokehJS library: \", url);\n",
       "      document.getElementsByTagName(\"head\")[0].appendChild(s);\n",
       "    }\n",
       "  };var element = document.getElementById(\"5fcd1908-f7da-41cd-9cfd-226efcfa3380\");\n",
       "  if (element == null) {\n",
       "    console.log(\"Bokeh: ERROR: autoload.js configured with elementid '5fcd1908-f7da-41cd-9cfd-226efcfa3380' but no matching script tag was found. \")\n",
       "    return false;\n",
       "  }\n",
       "\n",
       "  var js_urls = [\"https://cdn.pydata.org/bokeh/release/bokeh-0.12.14.min.js\", \"https://cdn.pydata.org/bokeh/release/bokeh-widgets-0.12.14.min.js\", \"https://cdn.pydata.org/bokeh/release/bokeh-tables-0.12.14.min.js\", \"https://cdn.pydata.org/bokeh/release/bokeh-gl-0.12.14.min.js\"];\n",
       "\n",
       "  var inline_js = [\n",
       "    function(Bokeh) {\n",
       "      Bokeh.set_log_level(\"info\");\n",
       "    },\n",
       "    \n",
       "    function(Bokeh) {\n",
       "      \n",
       "    },\n",
       "    function(Bokeh) {\n",
       "      console.log(\"Bokeh: injecting CSS: https://cdn.pydata.org/bokeh/release/bokeh-0.12.14.min.css\");\n",
       "      Bokeh.embed.inject_css(\"https://cdn.pydata.org/bokeh/release/bokeh-0.12.14.min.css\");\n",
       "      console.log(\"Bokeh: injecting CSS: https://cdn.pydata.org/bokeh/release/bokeh-widgets-0.12.14.min.css\");\n",
       "      Bokeh.embed.inject_css(\"https://cdn.pydata.org/bokeh/release/bokeh-widgets-0.12.14.min.css\");\n",
       "      console.log(\"Bokeh: injecting CSS: https://cdn.pydata.org/bokeh/release/bokeh-tables-0.12.14.min.css\");\n",
       "      Bokeh.embed.inject_css(\"https://cdn.pydata.org/bokeh/release/bokeh-tables-0.12.14.min.css\");\n",
       "    }\n",
       "  ];\n",
       "\n",
       "  function run_inline_js() {\n",
       "    \n",
       "    if ((root.Bokeh !== undefined) || (force === true)) {\n",
       "      for (var i = 0; i < inline_js.length; i++) {\n",
       "        inline_js[i].call(root, root.Bokeh);\n",
       "      }if (force === true) {\n",
       "        display_loaded();\n",
       "      }} else if (Date.now() < root._bokeh_timeout) {\n",
       "      setTimeout(run_inline_js, 100);\n",
       "    } else if (!root._bokeh_failed_load) {\n",
       "      console.log(\"Bokeh: BokehJS failed to load within specified timeout.\");\n",
       "      root._bokeh_failed_load = true;\n",
       "    } else if (force !== true) {\n",
       "      var cell = $(document.getElementById(\"5fcd1908-f7da-41cd-9cfd-226efcfa3380\")).parents('.cell').data().cell;\n",
       "      cell.output_area.append_execute_result(NB_LOAD_WARNING)\n",
       "    }\n",
       "\n",
       "  }\n",
       "\n",
       "  if (root._bokeh_is_loading === 0) {\n",
       "    console.log(\"Bokeh: BokehJS loaded, going straight to plotting\");\n",
       "    run_inline_js();\n",
       "  } else {\n",
       "    load_libs(js_urls, function() {\n",
       "      console.log(\"Bokeh: BokehJS plotting callback run at\", now());\n",
       "      run_inline_js();\n",
       "    });\n",
       "  }\n",
       "}(window));"
      ],
      "application/vnd.bokehjs_load.v0+json": "\n(function(root) {\n  function now() {\n    return new Date();\n  }\n\n  var force = true;\n\n  if (typeof (root._bokeh_onload_callbacks) === \"undefined\" || force === true) {\n    root._bokeh_onload_callbacks = [];\n    root._bokeh_is_loading = undefined;\n  }\n\n  \n\n  \n  if (typeof (root._bokeh_timeout) === \"undefined\" || force === true) {\n    root._bokeh_timeout = Date.now() + 5000;\n    root._bokeh_failed_load = false;\n  }\n\n  var NB_LOAD_WARNING = {'data': {'text/html':\n     \"<div style='background-color: #fdd'>\\n\"+\n     \"<p>\\n\"+\n     \"BokehJS does not appear to have successfully loaded. If loading BokehJS from CDN, this \\n\"+\n     \"may be due to a slow or bad network connection. Possible fixes:\\n\"+\n     \"</p>\\n\"+\n     \"<ul>\\n\"+\n     \"<li>re-rerun `output_notebook()` to attempt to load from CDN again, or</li>\\n\"+\n     \"<li>use INLINE resources instead, as so:</li>\\n\"+\n     \"</ul>\\n\"+\n     \"<code>\\n\"+\n     \"from bokeh.resources import INLINE\\n\"+\n     \"output_notebook(resources=INLINE)\\n\"+\n     \"</code>\\n\"+\n     \"</div>\"}};\n\n  function display_loaded() {\n    var el = document.getElementById(\"5fcd1908-f7da-41cd-9cfd-226efcfa3380\");\n    if (el != null) {\n      el.textContent = \"BokehJS is loading...\";\n    }\n    if (root.Bokeh !== undefined) {\n      if (el != null) {\n        el.textContent = \"BokehJS \" + root.Bokeh.version + \" successfully loaded.\";\n      }\n    } else if (Date.now() < root._bokeh_timeout) {\n      setTimeout(display_loaded, 100)\n    }\n  }\n\n\n  function run_callbacks() {\n    try {\n      root._bokeh_onload_callbacks.forEach(function(callback) { callback() });\n    }\n    finally {\n      delete root._bokeh_onload_callbacks\n    }\n    console.info(\"Bokeh: all callbacks have finished\");\n  }\n\n  function load_libs(js_urls, callback) {\n    root._bokeh_onload_callbacks.push(callback);\n    if (root._bokeh_is_loading > 0) {\n      console.log(\"Bokeh: BokehJS is being loaded, scheduling callback at\", now());\n      return null;\n    }\n    if (js_urls == null || js_urls.length === 0) {\n      run_callbacks();\n      return null;\n    }\n    console.log(\"Bokeh: BokehJS not loaded, scheduling load and callback at\", now());\n    root._bokeh_is_loading = js_urls.length;\n    for (var i = 0; i < js_urls.length; i++) {\n      var url = js_urls[i];\n      var s = document.createElement('script');\n      s.src = url;\n      s.async = false;\n      s.onreadystatechange = s.onload = function() {\n        root._bokeh_is_loading--;\n        if (root._bokeh_is_loading === 0) {\n          console.log(\"Bokeh: all BokehJS libraries loaded\");\n          run_callbacks()\n        }\n      };\n      s.onerror = function() {\n        console.warn(\"failed to load library \" + url);\n      };\n      console.log(\"Bokeh: injecting script tag for BokehJS library: \", url);\n      document.getElementsByTagName(\"head\")[0].appendChild(s);\n    }\n  };var element = document.getElementById(\"5fcd1908-f7da-41cd-9cfd-226efcfa3380\");\n  if (element == null) {\n    console.log(\"Bokeh: ERROR: autoload.js configured with elementid '5fcd1908-f7da-41cd-9cfd-226efcfa3380' but no matching script tag was found. \")\n    return false;\n  }\n\n  var js_urls = [\"https://cdn.pydata.org/bokeh/release/bokeh-0.12.14.min.js\", \"https://cdn.pydata.org/bokeh/release/bokeh-widgets-0.12.14.min.js\", \"https://cdn.pydata.org/bokeh/release/bokeh-tables-0.12.14.min.js\", \"https://cdn.pydata.org/bokeh/release/bokeh-gl-0.12.14.min.js\"];\n\n  var inline_js = [\n    function(Bokeh) {\n      Bokeh.set_log_level(\"info\");\n    },\n    \n    function(Bokeh) {\n      \n    },\n    function(Bokeh) {\n      console.log(\"Bokeh: injecting CSS: https://cdn.pydata.org/bokeh/release/bokeh-0.12.14.min.css\");\n      Bokeh.embed.inject_css(\"https://cdn.pydata.org/bokeh/release/bokeh-0.12.14.min.css\");\n      console.log(\"Bokeh: injecting CSS: https://cdn.pydata.org/bokeh/release/bokeh-widgets-0.12.14.min.css\");\n      Bokeh.embed.inject_css(\"https://cdn.pydata.org/bokeh/release/bokeh-widgets-0.12.14.min.css\");\n      console.log(\"Bokeh: injecting CSS: https://cdn.pydata.org/bokeh/release/bokeh-tables-0.12.14.min.css\");\n      Bokeh.embed.inject_css(\"https://cdn.pydata.org/bokeh/release/bokeh-tables-0.12.14.min.css\");\n    }\n  ];\n\n  function run_inline_js() {\n    \n    if ((root.Bokeh !== undefined) || (force === true)) {\n      for (var i = 0; i < inline_js.length; i++) {\n        inline_js[i].call(root, root.Bokeh);\n      }if (force === true) {\n        display_loaded();\n      }} else if (Date.now() < root._bokeh_timeout) {\n      setTimeout(run_inline_js, 100);\n    } else if (!root._bokeh_failed_load) {\n      console.log(\"Bokeh: BokehJS failed to load within specified timeout.\");\n      root._bokeh_failed_load = true;\n    } else if (force !== true) {\n      var cell = $(document.getElementById(\"5fcd1908-f7da-41cd-9cfd-226efcfa3380\")).parents('.cell').data().cell;\n      cell.output_area.append_execute_result(NB_LOAD_WARNING)\n    }\n\n  }\n\n  if (root._bokeh_is_loading === 0) {\n    console.log(\"Bokeh: BokehJS loaded, going straight to plotting\");\n    run_inline_js();\n  } else {\n    load_libs(js_urls, function() {\n      console.log(\"Bokeh: BokehJS plotting callback run at\", now());\n      run_inline_js();\n    });\n  }\n}(window));"
     },
     "metadata": {},
     "output_type": "display_data"
    },
    {
     "data": {
      "text/html": [
       "\n",
       "<div class=\"bk-root\">\n",
       "    <div class=\"bk-plotdiv\" id=\"da96206f-34d8-4f99-924b-cbb87594b568\"></div>\n",
       "</div>"
      ]
     },
     "metadata": {},
     "output_type": "display_data"
    },
    {
     "data": {
      "application/javascript": [
       "(function(root) {\n",
       "  function embed_document(root) {\n",
       "    \n",
       "  var docs_json = {\"ba4c8a5d-9732-4a5d-a273-55cb2bcfc59e\":{\"roots\":{\"references\":[{\"attributes\":{\"bottom_units\":\"screen\",\"fill_alpha\":{\"value\":0.5},\"fill_color\":{\"value\":\"lightgrey\"},\"left_units\":\"screen\",\"level\":\"overlay\",\"line_alpha\":{\"value\":1.0},\"line_color\":{\"value\":\"black\"},\"line_dash\":[4,4],\"line_width\":{\"value\":2},\"plot\":null,\"render_mode\":\"css\",\"right_units\":\"screen\",\"top_units\":\"screen\"},\"id\":\"62855755-2279-430d-bcde-8fba3b06809a\",\"type\":\"BoxAnnotation\"},{\"attributes\":{\"fill_color\":{\"value\":\"#abdda4\"},\"size\":{\"units\":\"screen\",\"value\":15}},\"id\":\"5a08d58c-eb42-4752-a47e-44fc430db839\",\"type\":\"Circle\"},{\"attributes\":{},\"id\":\"a413e886-1ed8-48ec-b7b7-c98db465feef\",\"type\":\"LinearScale\"},{\"attributes\":{},\"id\":\"a45ff3fe-c243-4c8f-aefe-c6563bdecbf9\",\"type\":\"NodesAndLinkedEdges\"},{\"attributes\":{\"edge_renderer\":{\"id\":\"242c92c0-044e-4df0-9dae-b249dddb37e3\",\"type\":\"GlyphRenderer\"},\"inspection_policy\":{\"id\":\"a38ac6dd-8d2a-47f2-b035-84b1c7819f8d\",\"type\":\"NodesAndLinkedEdges\"},\"layout_provider\":{\"id\":\"4924fef1-c62a-494e-831c-769f1961ef1c\",\"type\":\"StaticLayoutProvider\"},\"node_renderer\":{\"id\":\"e44fcab7-ccd9-40e1-8749-8d5510e052b4\",\"type\":\"GlyphRenderer\"},\"selection_policy\":{\"id\":\"a45ff3fe-c243-4c8f-aefe-c6563bdecbf9\",\"type\":\"NodesAndLinkedEdges\"}},\"id\":\"0c1d4efb-8ce2-44b6-a293-5469a5f03ed5\",\"type\":\"GraphRenderer\"},{\"attributes\":{\"line_color\":{\"value\":\"#abdda4\"},\"line_width\":{\"value\":5}},\"id\":\"401e7650-a9a2-45a6-a362-e57fb56c348d\",\"type\":\"MultiLine\"},{\"attributes\":{\"callback\":null,\"column_names\":[\"index\"],\"data\":{\"index\":[\"petal length (cm)\\n<=\\n2.45\\n NODE 0\",\"return [[ 50.   0.   0.]]NODE1\",\"petal width (cm)\\n<=\\n1.75\\n NODE 2\",\"petal length (cm)\\n<=\\n4.95\\n NODE 3\",\"petal width (cm)\\n<=\\n1.65\\n NODE 4\",\"return [[  0.  47.   0.]]NODE5\",\"return [[ 0.  0.  1.]]NODE6\",\"petal width (cm)\\n<=\\n1.55\\n NODE 7\",\"return [[ 0.  0.  3.]]NODE8\",\"sepal length (cm)\\n<=\\n6.95\\n NODE 9\",\"return [[ 0.  2.  0.]]NODE10\",\"return [[ 0.  0.  1.]]NODE11\",\"petal length (cm)\\n<=\\n4.85\\n NODE 12\",\"sepal width (cm)\\n<=\\n3.10\\n NODE 13\",\"return [[ 0.  0.  2.]]NODE14\",\"return [[ 0.  1.  0.]]NODE15\",\"return [[  0.   0.  43.]]NODE16\"],\"name\":[\"petal length (cm)\\n<=\\n2.45\\n \",\"return [[ 50.   0.   0.]]\",\"petal width (cm)\\n<=\\n1.75\\n \",\"petal length (cm)\\n<=\\n4.95\\n \",\"petal width (cm)\\n<=\\n1.65\\n \",\"return [[  0.  47.   0.]]\",\"return [[ 0.  0.  1.]]\",\"petal width (cm)\\n<=\\n1.55\\n \",\"return [[ 0.  0.  3.]]\",\"sepal length (cm)\\n<=\\n6.95\\n \",\"return [[ 0.  2.  0.]]\",\"return [[ 0.  0.  1.]]\",\"petal length (cm)\\n<=\\n4.85\\n \",\"sepal width (cm)\\n<=\\n3.10\\n \",\"return [[ 0.  0.  2.]]\",\"return [[ 0.  1.  0.]]\",\"return [[  0.   0.  43.]]\"]}},\"id\":\"08b43ce3-5b60-4ce5-9936-b68a8d20324a\",\"type\":\"ColumnDataSource\"},{\"attributes\":{\"active_drag\":\"auto\",\"active_inspect\":\"auto\",\"active_scroll\":\"auto\",\"active_tap\":\"auto\",\"tools\":[{\"id\":\"38257214-a568-40fe-9549-8595611ee99d\",\"type\":\"HoverTool\"},{\"id\":\"833786c9-20b4-436a-82f6-01c134fcc2c2\",\"type\":\"TapTool\"},{\"id\":\"06861079-f77c-4e63-beae-6fd3c103b060\",\"type\":\"BoxSelectTool\"},{\"id\":\"fa6303fb-1953-4986-814b-bd0400032e33\",\"type\":\"WheelZoomTool\"}]},\"id\":\"8bfbc51f-8157-4918-9852-289ecf144b17\",\"type\":\"Toolbar\"},{\"attributes\":{\"line_color\":{\"value\":\"#fdae61\"},\"line_width\":{\"value\":5}},\"id\":\"ecec3e3a-cee2-4aad-b6ef-9b5883a0d8b7\",\"type\":\"MultiLine\"},{\"attributes\":{\"callback\":null,\"end\":1.1,\"start\":-1.1},\"id\":\"18e6a68b-6116-431f-9b8b-b96efd6f4770\",\"type\":\"Range1d\"},{\"attributes\":{\"source\":{\"id\":\"08b43ce3-5b60-4ce5-9936-b68a8d20324a\",\"type\":\"ColumnDataSource\"}},\"id\":\"3c1ffeba-bf4d-40fc-96ac-dd18cc143516\",\"type\":\"CDSView\"},{\"attributes\":{\"plot\":null,\"text\":\"Graph Interaction Demonstration\"},\"id\":\"13da0062-5afe-45d9-b0fe-3af20898d52b\",\"type\":\"Title\"},{\"attributes\":{\"data_source\":{\"id\":\"08b43ce3-5b60-4ce5-9936-b68a8d20324a\",\"type\":\"ColumnDataSource\"},\"glyph\":{\"id\":\"490244cf-727f-4bbe-ac42-0d277127785f\",\"type\":\"Circle\"},\"hover_glyph\":{\"id\":\"5a08d58c-eb42-4752-a47e-44fc430db839\",\"type\":\"Circle\"},\"muted_glyph\":null,\"selection_glyph\":{\"id\":\"1e1475e3-43bc-4787-9f04-86b52c20de59\",\"type\":\"Circle\"},\"view\":{\"id\":\"3c1ffeba-bf4d-40fc-96ac-dd18cc143516\",\"type\":\"CDSView\"}},\"id\":\"e44fcab7-ccd9-40e1-8749-8d5510e052b4\",\"type\":\"GlyphRenderer\"},{\"attributes\":{\"callback\":null,\"end\":1.1,\"start\":-1.1},\"id\":\"4031f906-d070-45da-98b1-af00d139c7b1\",\"type\":\"Range1d\"},{\"attributes\":{\"callback\":null,\"column_names\":[\"start\",\"end\"],\"data\":{\"end\":[\"return [[ 50.   0.   0.]]NODE1\",\"petal width (cm)\\n<=\\n1.75\\n NODE 2\",\"petal length (cm)\\n<=\\n4.95\\n NODE 3\",\"petal length (cm)\\n<=\\n4.85\\n NODE 12\",\"petal width (cm)\\n<=\\n1.65\\n NODE 4\",\"petal width (cm)\\n<=\\n1.55\\n NODE 7\",\"return [[  0.  47.   0.]]NODE5\",\"return [[ 0.  0.  1.]]NODE6\",\"return [[ 0.  0.  3.]]NODE8\",\"sepal length (cm)\\n<=\\n6.95\\n NODE 9\",\"return [[ 0.  2.  0.]]NODE10\",\"return [[ 0.  0.  1.]]NODE11\",\"sepal width (cm)\\n<=\\n3.10\\n NODE 13\",\"return [[  0.   0.  43.]]NODE16\",\"return [[ 0.  0.  2.]]NODE14\",\"return [[ 0.  1.  0.]]NODE15\"],\"start\":[\"petal length (cm)\\n<=\\n2.45\\n NODE 0\",\"petal length (cm)\\n<=\\n2.45\\n NODE 0\",\"petal width (cm)\\n<=\\n1.75\\n NODE 2\",\"petal width (cm)\\n<=\\n1.75\\n NODE 2\",\"petal length (cm)\\n<=\\n4.95\\n NODE 3\",\"petal length (cm)\\n<=\\n4.95\\n NODE 3\",\"petal width (cm)\\n<=\\n1.65\\n NODE 4\",\"petal width (cm)\\n<=\\n1.65\\n NODE 4\",\"petal width (cm)\\n<=\\n1.55\\n NODE 7\",\"petal width (cm)\\n<=\\n1.55\\n NODE 7\",\"sepal length (cm)\\n<=\\n6.95\\n NODE 9\",\"sepal length (cm)\\n<=\\n6.95\\n NODE 9\",\"petal length (cm)\\n<=\\n4.85\\n NODE 12\",\"petal length (cm)\\n<=\\n4.85\\n NODE 12\",\"sepal width (cm)\\n<=\\n3.10\\n NODE 13\",\"sepal width (cm)\\n<=\\n3.10\\n NODE 13\"]}},\"id\":\"f61321f6-231a-4ce5-9ec4-ade9885c6500\",\"type\":\"ColumnDataSource\"},{\"attributes\":{\"plot_height\":400,\"plot_width\":400,\"renderers\":[{\"id\":\"62855755-2279-430d-bcde-8fba3b06809a\",\"type\":\"BoxAnnotation\"},{\"id\":\"0c1d4efb-8ce2-44b6-a293-5469a5f03ed5\",\"type\":\"GraphRenderer\"}],\"title\":{\"id\":\"13da0062-5afe-45d9-b0fe-3af20898d52b\",\"type\":\"Title\"},\"toolbar\":{\"id\":\"8bfbc51f-8157-4918-9852-289ecf144b17\",\"type\":\"Toolbar\"},\"x_range\":{\"id\":\"18e6a68b-6116-431f-9b8b-b96efd6f4770\",\"type\":\"Range1d\"},\"x_scale\":{\"id\":\"a413e886-1ed8-48ec-b7b7-c98db465feef\",\"type\":\"LinearScale\"},\"y_range\":{\"id\":\"4031f906-d070-45da-98b1-af00d139c7b1\",\"type\":\"Range1d\"},\"y_scale\":{\"id\":\"2a060aa7-8007-4b2e-9fce-c5f8d0dfbb25\",\"type\":\"LinearScale\"}},\"id\":\"ff8cedd4-8226-4c8c-a258-0cd48ec25239\",\"type\":\"Plot\"},{\"attributes\":{\"fill_color\":{\"value\":\"#fdae61\"},\"size\":{\"units\":\"screen\",\"value\":15}},\"id\":\"1e1475e3-43bc-4787-9f04-86b52c20de59\",\"type\":\"Circle\"},{\"attributes\":{\"data_source\":{\"id\":\"f61321f6-231a-4ce5-9ec4-ade9885c6500\",\"type\":\"ColumnDataSource\"},\"glyph\":{\"id\":\"10eae8f0-d8a7-4081-80b6-1ad4dc2b5037\",\"type\":\"MultiLine\"},\"hover_glyph\":{\"id\":\"401e7650-a9a2-45a6-a362-e57fb56c348d\",\"type\":\"MultiLine\"},\"muted_glyph\":null,\"selection_glyph\":{\"id\":\"ecec3e3a-cee2-4aad-b6ef-9b5883a0d8b7\",\"type\":\"MultiLine\"},\"view\":{\"id\":\"90f986ad-fa6c-4839-ac1e-be8978d6c1ec\",\"type\":\"CDSView\"}},\"id\":\"242c92c0-044e-4df0-9dae-b249dddb37e3\",\"type\":\"GlyphRenderer\"},{\"attributes\":{\"callback\":null,\"tooltips\":[[\"Name:\",\"@name\"]]},\"id\":\"38257214-a568-40fe-9549-8595611ee99d\",\"type\":\"HoverTool\"},{\"attributes\":{\"callback\":null,\"overlay\":{\"id\":\"62855755-2279-430d-bcde-8fba3b06809a\",\"type\":\"BoxAnnotation\"}},\"id\":\"06861079-f77c-4e63-beae-6fd3c103b060\",\"type\":\"BoxSelectTool\"},{\"attributes\":{\"line_alpha\":{\"value\":0.8},\"line_color\":{\"value\":\"#CCCCCC\"},\"line_width\":{\"value\":5}},\"id\":\"10eae8f0-d8a7-4081-80b6-1ad4dc2b5037\",\"type\":\"MultiLine\"},{\"attributes\":{\"fill_color\":{\"value\":\"#2b83ba\"},\"size\":{\"units\":\"screen\",\"value\":15}},\"id\":\"490244cf-727f-4bbe-ac42-0d277127785f\",\"type\":\"Circle\"},{\"attributes\":{\"source\":{\"id\":\"f61321f6-231a-4ce5-9ec4-ade9885c6500\",\"type\":\"ColumnDataSource\"}},\"id\":\"90f986ad-fa6c-4839-ac1e-be8978d6c1ec\",\"type\":\"CDSView\"},{\"attributes\":{\"callback\":null},\"id\":\"833786c9-20b4-436a-82f6-01c134fcc2c2\",\"type\":\"TapTool\"},{\"attributes\":{\"graph_layout\":{\"petal length (cm)\\n<=\\n2.45\\n NODE 0\":[0.411764705882353,0.7647058823529411],\"petal length (cm)\\n<=\\n4.85\\n NODE 12\":[-0.4453781512605042,0.2647058823529411],\"petal length (cm)\\n<=\\n4.95\\n NODE 3\":[0.12605042016806725,0.2647058823529411],\"petal width (cm)\\n<=\\n1.55\\n NODE 7\":[-0.016806722689075612,0.014705882352941124],\"petal width (cm)\\n<=\\n1.65\\n NODE 4\":[0.26890756302521013,0.014705882352941124],\"petal width (cm)\\n<=\\n1.75\\n NODE 2\":[-0.15966386554621848,0.5147058823529411],\"return [[  0.   0.  43.]]NODE16\":[-0.5882352941176471,0.014705882352941124],\"return [[  0.  47.   0.]]NODE5\":[0.3403361344537815,-0.23529411764705888],\"return [[ 0.  0.  1.]]NODE11\":[-0.12394957983193275,-0.4852941176470589],\"return [[ 0.  0.  1.]]NODE6\":[0.19747899159663868,-0.23529411764705888],\"return [[ 0.  0.  2.]]NODE14\":[-0.2310924369747899,-0.23529411764705888],\"return [[ 0.  0.  3.]]NODE8\":[0.05462184873949582,-0.23529411764705888],\"return [[ 0.  1.  0.]]NODE15\":[-0.3739495798319328,-0.23529411764705888],\"return [[ 0.  2.  0.]]NODE10\":[-0.052521008403361324,-0.4852941176470589],\"return [[ 50.   0.   0.]]NODE1\":[0.9831932773109244,0.5147058823529411],\"sepal length (cm)\\n<=\\n6.95\\n NODE 9\":[-0.08823529411764704,-0.23529411764705888],\"sepal width (cm)\\n<=\\n3.10\\n NODE 13\":[-0.3025210084033613,0.014705882352941124]}},\"id\":\"4924fef1-c62a-494e-831c-769f1961ef1c\",\"type\":\"StaticLayoutProvider\"},{\"attributes\":{},\"id\":\"2a060aa7-8007-4b2e-9fce-c5f8d0dfbb25\",\"type\":\"LinearScale\"},{\"attributes\":{},\"id\":\"a38ac6dd-8d2a-47f2-b035-84b1c7819f8d\",\"type\":\"NodesAndLinkedEdges\"},{\"attributes\":{},\"id\":\"fa6303fb-1953-4986-814b-bd0400032e33\",\"type\":\"WheelZoomTool\"}],\"root_ids\":[\"ff8cedd4-8226-4c8c-a258-0cd48ec25239\"]},\"title\":\"Bokeh Application\",\"version\":\"0.12.14\"}};\n",
       "  var render_items = [{\"docid\":\"ba4c8a5d-9732-4a5d-a273-55cb2bcfc59e\",\"elementid\":\"da96206f-34d8-4f99-924b-cbb87594b568\",\"modelid\":\"ff8cedd4-8226-4c8c-a258-0cd48ec25239\"}];\n",
       "  root.Bokeh.embed.embed_items_notebook(docs_json, render_items);\n",
       "\n",
       "  }\n",
       "  if (root.Bokeh !== undefined) {\n",
       "    embed_document(root);\n",
       "  } else {\n",
       "    var attempts = 0;\n",
       "    var timer = setInterval(function(root) {\n",
       "      if (root.Bokeh !== undefined) {\n",
       "        embed_document(root);\n",
       "        clearInterval(timer);\n",
       "      }\n",
       "      attempts++;\n",
       "      if (attempts > 100) {\n",
       "        console.log(\"Bokeh: ERROR: Unable to run BokehJS code because BokehJS library is missing\")\n",
       "        clearInterval(timer);\n",
       "      }\n",
       "    }, 10, root)\n",
       "  }\n",
       "})(window);"
      ],
      "application/vnd.bokehjs_exec.v0+json": ""
     },
     "metadata": {
      "application/vnd.bokehjs_exec.v0+json": {
       "id": "ff8cedd4-8226-4c8c-a258-0cd48ec25239"
      }
     },
     "output_type": "display_data"
    }
   ],
   "source": [
    "import networkx as nx\n",
    "\n",
    "from bokeh.io import show, output_file, output_notebook\n",
    "from bokeh.models import Plot, Range1d, MultiLine, Circle, HoverTool, TapTool, BoxSelectTool, WheelZoomTool\n",
    "from bokeh.models.graphs import from_networkx, NodesAndLinkedEdges, EdgesAndLinkedNodes\n",
    "from bokeh.palettes import Spectral4\n",
    "\n",
    "G = g\n",
    "plot = Plot(plot_width=400, plot_height=400,\n",
    "            x_range=Range1d(-1.1,1.1), y_range=Range1d(-1.1,1.1))\n",
    "plot.title.text = \"Graph Interaction Demonstration\"\n",
    "hover = HoverTool(tooltips=[(\"Name:\", \"@name\")])\n",
    "plot.add_tools(hover, TapTool(), BoxSelectTool(), WheelZoomTool())\n",
    "\n",
    "graph_renderer = from_networkx(G, fun_layout, scale=1, center=(0,0))\n",
    "\n",
    "graph_renderer.node_renderer.glyph = Circle(size=15, fill_color=Spectral4[0])\n",
    "graph_renderer.node_renderer.selection_glyph = Circle(size=15, fill_color=Spectral4[2])\n",
    "graph_renderer.node_renderer.hover_glyph = Circle(size=15, fill_color=Spectral4[1])\n",
    "graph_renderer.node_renderer.data_source.data['name'] = [e.split('NODE')[0] for e in list(g.nodes())]\n",
    "\n",
    "\n",
    "graph_renderer.edge_renderer.glyph = MultiLine(line_color=\"#CCCCCC\", line_alpha=0.8, line_width=5)\n",
    "graph_renderer.edge_renderer.selection_glyph = MultiLine(line_color=Spectral4[2], line_width=5)\n",
    "graph_renderer.edge_renderer.hover_glyph = MultiLine(line_color=Spectral4[1], line_width=5)\n",
    "\n",
    "graph_renderer.selection_policy = NodesAndLinkedEdges()\n",
    "graph_renderer.inspection_policy = NodesAndLinkedEdges()\n",
    "\n",
    "plot.renderers.append(graph_renderer)\n",
    "\n",
    "#output_file(\"interactive_graphs.html\")\n",
    "output_notebook()\n",
    "show(plot)"
   ]
  },
  {
   "cell_type": "code",
   "execution_count": 76,
   "metadata": {},
   "outputs": [
    {
     "ename": "ModuleNotFoundError",
     "evalue": "No module named 'bokeh.core.state'",
     "output_type": "error",
     "traceback": [
      "\u001b[1;31m---------------------------------------------------------------------------\u001b[0m",
      "\u001b[1;31mModuleNotFoundError\u001b[0m                       Traceback (most recent call last)",
      "\u001b[1;32m<ipython-input-76-3fa32ac67961>\u001b[0m in \u001b[0;36m<module>\u001b[1;34m()\u001b[0m\n\u001b[1;32m----> 1\u001b[1;33m \u001b[1;32mimport\u001b[0m \u001b[0mbokeh\u001b[0m\u001b[1;33m.\u001b[0m\u001b[0mcore\u001b[0m\u001b[1;33m.\u001b[0m\u001b[0mstate\u001b[0m\u001b[1;33m\u001b[0m\u001b[0m\n\u001b[0m",
      "\u001b[1;31mModuleNotFoundError\u001b[0m: No module named 'bokeh.core.state'"
     ]
    }
   ],
   "source": [
    "import bokeh.core.state"
   ]
  },
  {
   "cell_type": "code",
   "execution_count": 73,
   "metadata": {},
   "outputs": [
    {
     "name": "stdout",
     "output_type": "stream",
     "text": [
      "Help on function output_file in module bokeh.io.output:\n",
      "\n",
      "output_file(filename, title='Bokeh Plot', mode='cdn', root_dir=None)\n",
      "    Configure the default output state to generate output saved\n",
      "    to a file when :func:`show` is called.\n",
      "    \n",
      "    Does not change the current Document from curdoc(). File and notebook\n",
      "    output may be active at the same time, so e.g., this does not clear the\n",
      "    effects of ``output_notebook()``.\n",
      "    \n",
      "    Args:\n",
      "        filename (str) : a filename for saving the HTML document\n",
      "    \n",
      "        title (str, optional) : a title for the HTML document (default: \"Bokeh Plot\")\n",
      "    \n",
      "        mode (str, optional) : how to include BokehJS (default: ``'cdn'``)\n",
      "            One of: ``'inline'``, ``'cdn'``, ``'relative(-dev)'`` or\n",
      "            ``'absolute(-dev)'``. See :class:`bokeh.resources.Resources` for more details.\n",
      "    \n",
      "        root_dir (str, optional) : root directory to use for 'absolute' resources. (default: None)\n",
      "            This value is ignored for other resource types, e.g. ``INLINE`` or\n",
      "            ``CDN``.\n",
      "    \n",
      "    Returns:\n",
      "        None\n",
      "    \n",
      "    .. note::\n",
      "        Generally, this should be called at the beginning of an interactive\n",
      "        session or the top of a script.\n",
      "    \n",
      "    .. warning::\n",
      "        This output file will be overwritten on every save, e.g., each time\n",
      "        show() or save() is invoked.\n",
      "\n"
     ]
    }
   ],
   "source": [
    "help(output_file)"
   ]
  },
  {
   "cell_type": "code",
   "execution_count": null,
   "metadata": {
    "collapsed": true
   },
   "outputs": [],
   "source": [
    "## "
   ]
  }
 ],
 "metadata": {
  "kernelspec": {
   "display_name": "Python 3",
   "language": "python",
   "name": "python3"
  },
  "language_info": {
   "codemirror_mode": {
    "name": "ipython",
    "version": 3
   },
   "file_extension": ".py",
   "mimetype": "text/x-python",
   "name": "python",
   "nbconvert_exporter": "python",
   "pygments_lexer": "ipython3",
   "version": "3.6.2"
  }
 },
 "nbformat": 4,
 "nbformat_minor": 2
}
